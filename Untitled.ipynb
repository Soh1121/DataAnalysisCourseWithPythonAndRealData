{
 "cells": [
  {
   "cell_type": "code",
   "execution_count": 2,
   "metadata": {},
   "outputs": [],
   "source": [
    "import numpy as np\n",
    "import pandas as pd\n",
    "import matplotlib.pyplot as plt\n",
    "%matplotlib inline\n",
    "\n",
    "from sklearn.cluster import KMeans\n",
    "from sklearn.preprocessing import StandardScaler"
   ]
  },
  {
   "cell_type": "code",
   "execution_count": 3,
   "metadata": {},
   "outputs": [],
   "source": [
    "data_prefecture = pd.read_csv(\"data_prefecture_category.csv\", encoding='utf-8', index_col=0)\n",
    "# 数値データへの変換\n",
    "data_prefecture_float = data_prefecture.apply(lambda x: x.str.replace(',', '')).astype(np.float)\n",
    "\n",
    "# 標準化\n",
    "scaler = StandardScaler()\n",
    "data_std = scaler.fit_transform(data_prefecture_float)"
   ]
  },
  {
   "cell_type": "code",
   "execution_count": 4,
   "metadata": {},
   "outputs": [
    {
     "name": "stdout",
     "output_type": "stream",
     "text": [
      "[0 2 2 2 2 0 0 3 3 3 0 1 3 3 2 0 3 2 2 0 3 0 3 1 1 2 2 2 3 2 2 2 0 1 2 1 0\n",
      " 1 1 1 0 2 1 1 2 0 2 1 2 2 1 1]\n"
     ]
    }
   ],
   "source": [
    "k_means = KMeans(n_clusters=4)\n",
    "k_means.fit(data_std)\n",
    "\n",
    "print(k_means.labels_)"
   ]
  },
  {
   "cell_type": "code",
   "execution_count": 5,
   "metadata": {},
   "outputs": [
    {
     "name": "stdout",
     "output_type": "stream",
     "text": [
      "都道府県\n",
      "札幌市      0\n",
      "山形市      0\n",
      "福島市      0\n",
      "さいたま市    0\n",
      "富山市      0\n",
      "長野市      0\n",
      "静岡市      0\n",
      "岡山市      0\n",
      "高松市      0\n",
      "佐賀市      0\n",
      "鹿児島市     0\n",
      "Name: label, dtype: int32\n"
     ]
    }
   ],
   "source": [
    "data_prefecture_float[\"label\"] = k_means.labels_\n",
    "\n",
    "# クラスター0の都市を表示\n",
    "print(data_prefecture_float[data_prefecture_float[\"label\"] == 0][\"label\"])"
   ]
  },
  {
   "cell_type": "code",
   "execution_count": 6,
   "metadata": {},
   "outputs": [
    {
     "name": "stdout",
     "output_type": "stream",
     "text": [
      "都道府県\n",
      "千葉市     1\n",
      "津市      1\n",
      "大津市     1\n",
      "広島市     1\n",
      "徳島市     1\n",
      "松山市     1\n",
      "高知市     1\n",
      "福岡市     1\n",
      "熊本市     1\n",
      "大分市     1\n",
      "川崎市     1\n",
      "堺市      1\n",
      "北九州市    1\n",
      "Name: label, dtype: int32\n"
     ]
    }
   ],
   "source": [
    "# クラスター0の都市を表示\n",
    "print(data_prefecture_float[data_prefecture_float[\"label\"] == 1][\"label\"])"
   ]
  },
  {
   "cell_type": "code",
   "execution_count": 7,
   "metadata": {},
   "outputs": [
    {
     "name": "stdout",
     "output_type": "stream",
     "text": [
      "都道府県\n",
      "青森市     2\n",
      "盛岡市     2\n",
      "仙台市     2\n",
      "秋田市     2\n",
      "新潟市     2\n",
      "福井市     2\n",
      "甲府市     2\n",
      "京都市     2\n",
      "大阪市     2\n",
      "神戸市     2\n",
      "和歌山市    2\n",
      "鳥取市     2\n",
      "松江市     2\n",
      "山口市     2\n",
      "長崎市     2\n",
      "宮崎市     2\n",
      "那覇市     2\n",
      "相模原市    2\n",
      "浜松市     2\n",
      "Name: label, dtype: int32\n"
     ]
    }
   ],
   "source": [
    "# クラスター0の都市を表示\n",
    "print(data_prefecture_float[data_prefecture_float[\"label\"] == 2][\"label\"])"
   ]
  },
  {
   "cell_type": "code",
   "execution_count": 8,
   "metadata": {},
   "outputs": [
    {
     "name": "stdout",
     "output_type": "stream",
     "text": [
      "都道府県\n",
      "水戸市      3\n",
      "宇都宮市     3\n",
      "前橋市      3\n",
      "東京都区部    3\n",
      "横浜市      3\n",
      "金沢市      3\n",
      "岐阜市      3\n",
      "名古屋市     3\n",
      "奈良市      3\n",
      "Name: label, dtype: int32\n"
     ]
    }
   ],
   "source": [
    "# クラスター0の都市を表示\n",
    "print(data_prefecture_float[data_prefecture_float[\"label\"] == 3][\"label\"])"
   ]
  },
  {
   "cell_type": "code",
   "execution_count": 12,
   "metadata": {},
   "outputs": [
    {
     "data": {
      "text/html": [
       "<div>\n",
       "<style scoped>\n",
       "    .dataframe tbody tr th:only-of-type {\n",
       "        vertical-align: middle;\n",
       "    }\n",
       "\n",
       "    .dataframe tbody tr th {\n",
       "        vertical-align: top;\n",
       "    }\n",
       "\n",
       "    .dataframe thead th {\n",
       "        text-align: right;\n",
       "    }\n",
       "</style>\n",
       "<table border=\"1\" class=\"dataframe\">\n",
       "  <thead>\n",
       "    <tr style=\"text-align: right;\">\n",
       "      <th></th>\n",
       "      <th>0</th>\n",
       "      <th>1</th>\n",
       "      <th>2</th>\n",
       "      <th>3</th>\n",
       "    </tr>\n",
       "  </thead>\n",
       "  <tbody>\n",
       "    <tr>\n",
       "      <th>食    料</th>\n",
       "      <td>793032.727273</td>\n",
       "      <td>779291.230769</td>\n",
       "      <td>733061.157895</td>\n",
       "      <td>878062.777778</td>\n",
       "    </tr>\n",
       "    <tr>\n",
       "      <th>住    居</th>\n",
       "      <td>251055.636364</td>\n",
       "      <td>203780.615385</td>\n",
       "      <td>203540.210526</td>\n",
       "      <td>238086.222222</td>\n",
       "    </tr>\n",
       "    <tr>\n",
       "      <th>光熱・水道</th>\n",
       "      <td>235341.727273</td>\n",
       "      <td>199414.615385</td>\n",
       "      <td>214298.421053</td>\n",
       "      <td>220318.777778</td>\n",
       "    </tr>\n",
       "    <tr>\n",
       "      <th>家具・家事</th>\n",
       "      <td>105362.090909</td>\n",
       "      <td>115554.076923</td>\n",
       "      <td>88923.263158</td>\n",
       "      <td>113086.444444</td>\n",
       "    </tr>\n",
       "    <tr>\n",
       "      <th>被服及び</th>\n",
       "      <td>115495.545455</td>\n",
       "      <td>119464.076923</td>\n",
       "      <td>93040.105263</td>\n",
       "      <td>143041.444444</td>\n",
       "    </tr>\n",
       "    <tr>\n",
       "      <th>保健医療</th>\n",
       "      <td>135523.636364</td>\n",
       "      <td>118526.384615</td>\n",
       "      <td>114436.631579</td>\n",
       "      <td>141919.888889</td>\n",
       "    </tr>\n",
       "    <tr>\n",
       "      <th>交通・通信</th>\n",
       "      <td>450950.636364</td>\n",
       "      <td>360541.769231</td>\n",
       "      <td>352341.473684</td>\n",
       "      <td>457075.444444</td>\n",
       "    </tr>\n",
       "    <tr>\n",
       "      <th>教    育</th>\n",
       "      <td>71907.909091</td>\n",
       "      <td>91357.076923</td>\n",
       "      <td>57413.052632</td>\n",
       "      <td>128130.111111</td>\n",
       "    </tr>\n",
       "    <tr>\n",
       "      <th>教養娯楽</th>\n",
       "      <td>289388.636364</td>\n",
       "      <td>316572.538462</td>\n",
       "      <td>252132.578947</td>\n",
       "      <td>370001.444444</td>\n",
       "    </tr>\n",
       "    <tr>\n",
       "      <th>諸 雑 費</th>\n",
       "      <td>246125.909091</td>\n",
       "      <td>256004.000000</td>\n",
       "      <td>221891.105263</td>\n",
       "      <td>290556.888889</td>\n",
       "    </tr>\n",
       "    <tr>\n",
       "      <th>label</th>\n",
       "      <td>0.000000</td>\n",
       "      <td>1.000000</td>\n",
       "      <td>2.000000</td>\n",
       "      <td>3.000000</td>\n",
       "    </tr>\n",
       "  </tbody>\n",
       "</table>\n",
       "</div>"
      ],
      "text/plain": [
       "                    0              1              2              3\n",
       "食    料  793032.727273  779291.230769  733061.157895  878062.777778\n",
       "住    居  251055.636364  203780.615385  203540.210526  238086.222222\n",
       "光熱・水道   235341.727273  199414.615385  214298.421053  220318.777778\n",
       "家具・家事   105362.090909  115554.076923   88923.263158  113086.444444\n",
       "被服及び    115495.545455  119464.076923   93040.105263  143041.444444\n",
       "保健医療    135523.636364  118526.384615  114436.631579  141919.888889\n",
       "交通・通信   450950.636364  360541.769231  352341.473684  457075.444444\n",
       "教    育   71907.909091   91357.076923   57413.052632  128130.111111\n",
       "教養娯楽    289388.636364  316572.538462  252132.578947  370001.444444\n",
       "諸 雑 費   246125.909091  256004.000000  221891.105263  290556.888889\n",
       "label        0.000000       1.000000       2.000000       3.000000"
      ]
     },
     "execution_count": 12,
     "metadata": {},
     "output_type": "execute_result"
    }
   ],
   "source": [
    "k_means_feature = pd.concat([\n",
    "    data_prefecture_float[data_prefecture_float[\"label\"] == 0].mean(),\n",
    "    data_prefecture_float[data_prefecture_float[\"label\"] == 1].mean(),\n",
    "    data_prefecture_float[data_prefecture_float[\"label\"] == 2].mean(),\n",
    "    data_prefecture_float[data_prefecture_float[\"label\"] == 3].mean()],\n",
    "    axis = 1\n",
    ")\n",
    "\n",
    "k_means_feature"
   ]
  },
  {
   "cell_type": "code",
   "execution_count": null,
   "metadata": {},
   "outputs": [],
   "source": []
  }
 ],
 "metadata": {
  "kernelspec": {
   "display_name": "Python 3",
   "language": "python",
   "name": "python3"
  },
  "language_info": {
   "codemirror_mode": {
    "name": "ipython",
    "version": 3
   },
   "file_extension": ".py",
   "mimetype": "text/x-python",
   "name": "python",
   "nbconvert_exporter": "python",
   "pygments_lexer": "ipython3",
   "version": "3.7.5"
  }
 },
 "nbformat": 4,
 "nbformat_minor": 2
}
