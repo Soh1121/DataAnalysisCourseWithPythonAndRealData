{
 "cells": [
  {
   "cell_type": "code",
   "execution_count": 2,
   "metadata": {},
   "outputs": [],
   "source": [
    "import numpy as np\n",
    "import matplotlib.pyplot as plt\n",
    "import pandas as pd\n",
    "import random\n",
    "%matplotlib inline\n",
    "import seaborn as sns\n",
    "from sklearn.linear_model import LinearRegression, Ridge, Lasso\n",
    "\n",
    "from sklearn.model_selection import train_test_split\n",
    "from sklearn.metrics import mean_absolute_error\n",
    "\n",
    "import requests\n",
    "import json\n",
    "import re"
   ]
  },
  {
   "cell_type": "code",
   "execution_count": 8,
   "metadata": {},
   "outputs": [],
   "source": [
    "data_from_csv = pd.read_csv(\"13_Tokyo_20171_20184.csv\", encoding='cp932')\n",
    "data_used_apartment = data_from_csv.query('種類 == \"中古マンション等\"')\n",
    "\n",
    "columns_name_list = [\"最寄駅：距離（分）\", \"間取り\", \"面積（㎡）\", \"建築年\", \"建物の構造\", \"建ぺい率（％）\", \"容積率（％）\", \"市区町村名\", \"取引価格（総額）\"]\n",
    "\n",
    "data_selected = data_used_apartment[columns_name_list]\n",
    "data_selected_dropna = data_selected.dropna(how='any')  # 1つでもNaNを含む行を削除\n",
    "\n",
    "data_selected_dropna = data_selected_dropna[data_selected_dropna[\"建築年\"].str.match('^平成|昭和')]\n",
    "\n",
    "wareki_to_seireki = {'昭和': 1926 - 1, '平成': 1989 - 1}\n",
    "\n",
    "building_year_list = data_selected_dropna[\"建築年\"]\n",
    "\n",
    "building_age_list = []\n",
    "for building_year in building_year_list:\n",
    "    # 昭和○年 → 昭和, ○ に変換、平成○年 → 平成, ○ に変換\n",
    "    building_year_split = re.search(r'(.+?)([0-9]+|元)年', building_year)\n",
    "    # 西暦に変換\n",
    "    seireki = wareki_to_seireki[building_year_split.groups()[0]] + int(building_year_split.groups()[1])\n",
    "    \n",
    "    building_age = 2019 - seireki  # 築年数に変換\n",
    "    building_age_list.append(building_age)\n",
    "    \n",
    "data_selected_dropna[\"築年数\"] = building_age_list # 新しく、築年数列を追加\n",
    "\n",
    "# もう使わないので、建築年列は削除\n",
    "data_added_building_age = data_selected_dropna.drop(\"建築年\", axis=1)"
   ]
  },
  {
   "cell_type": "code",
   "execution_count": 9,
   "metadata": {},
   "outputs": [],
   "source": [
    "# ダミー変数化しないもののリスト\n",
    "columns_name_list = [\"最寄駅：距離（分）\", \"面積（㎡）\", \"築年数\", \"建ぺい率（％）\", \"容積率（％）\", \"取引価格（総額）\"]\n",
    "\n",
    "# ダミー変数リスト\n",
    "dummy_list = [\"間取り\", \"建物の構造\", \"市区町村名\"]\n",
    "\n",
    "# ダミー変数を追加\n",
    "data_added_dummies = pd.concat([data_added_building_age[columns_name_list], pd.get_dummies(data_added_building_age[dummy_list], drop_first=True)], axis=1)\n",
    "\n",
    "# 文字列を数値化\n",
    "data_added_dummies[\"面積（㎡）\"] = data_added_dummies[\"面積（㎡）\"].astype(float)\n",
    "data_added_dummies = data_added_dummies[~data_added_dummies['最寄駅：距離（分）'].str.contains('\\?')]\n",
    "data_added_dummies[\"最寄駅：距離（分）\"] = data_added_dummies[\"最寄駅：距離（分）\"].astype(float)\n",
    "\n",
    "# 6000万円以下のデータのみ抽出\n",
    "data_added_dummies = data_added_dummies[data_added_dummies[\"取引価格（総額）\"] < 60000000]"
   ]
  },
  {
   "cell_type": "code",
   "execution_count": 11,
   "metadata": {},
   "outputs": [],
   "source": [
    "x = data_added_dummies.drop(\"取引価格（総額）\", axis=1)\n",
    "y = data_added_dummies[\"取引価格（総額）\"]\n",
    "\n",
    "X_train, X_test, y_train, y_test = train_test_split(x, y, test_size=0.3)"
   ]
  },
  {
   "cell_type": "code",
   "execution_count": 12,
   "metadata": {},
   "outputs": [
    {
     "name": "stdout",
     "output_type": "stream",
     "text": [
      "[-3.08890021e+05  3.63664295e+05 -4.50523212e+05 -3.61024675e+04\n",
      "  4.96570532e+03  4.82843203e+06  4.74587519e+06  1.82982647e+06\n",
      "  1.40164556e+06  1.36758899e-07  8.89298270e+06  1.09187674e+07\n",
      "  1.41544026e+06  7.61122609e+06  8.45903123e+06  6.58954354e+06\n",
      "  5.58793545e-09  1.08028672e+07  7.91000489e+06  6.70032410e+06\n",
      "  6.13508746e-08  6.09063084e+06  8.97867348e+06 -5.21540642e-08\n",
      "  9.81432410e+06  5.18560277e+06  1.11928359e+06  8.39339684e+06\n",
      "  7.66901074e+06 -7.53513850e+06  2.30629659e+06  7.07897283e+06\n",
      "  6.98926088e+06  2.30465648e+07  7.02800562e+06  3.53143961e+06\n",
      "  7.81268610e+06  7.14900804e+06  9.81799179e+06  1.01935001e+07\n",
      "  8.16702059e+06 -1.04358453e+07  4.02429901e+06  1.05679344e+07\n",
      "  5.23601929e+06  9.18170309e+06 -2.79556572e+04 -1.04999190e+06\n",
      "  4.73523003e+06 -7.83505425e+06  5.53750709e+06 -6.94800294e+06\n",
      "  2.99141014e+06 -2.80713749e+06  9.38521783e+06  9.87504053e+06\n",
      " -7.20383318e+06 -1.23667505e+07  7.92950779e+06 -6.11645982e+06\n",
      " -1.19865596e+07 -1.04631666e+07  1.88486971e+06 -1.48827371e+07\n",
      "  1.00997655e+07  9.64848584e+04  6.06661190e+06 -6.82028109e+06\n",
      "  1.38198188e+07  1.49864514e+07  2.07735027e+06 -6.77758932e+06\n",
      "  1.42163412e+07 -1.33830173e+07 -6.51683104e+06 -3.92235139e+06\n",
      "  3.73585819e+06 -1.30290792e+07  1.89747715e+06 -2.05246445e+06\n",
      " -1.56444341e+07 -2.78200360e+06  1.91265720e+06  7.73143108e+06\n",
      " -4.50342078e+06 -1.57615405e+07]\n",
      "6931550.58655436\n"
     ]
    }
   ],
   "source": [
    "lr_multi = LinearRegression()\n",
    "\n",
    "lr_multi.fit(X_train, y_train)\n",
    "print(lr_multi.coef_)\n",
    "print(lr_multi.intercept_)"
   ]
  },
  {
   "cell_type": "code",
   "execution_count": 13,
   "metadata": {},
   "outputs": [
    {
     "name": "stdout",
     "output_type": "stream",
     "text": [
      "34465    7.449126e+06\n",
      "10303    7.864877e+05\n",
      "2091    -1.673773e+07\n",
      "31095   -1.061075e+06\n",
      "13357    1.088434e+07\n",
      "             ...     \n",
      "32570   -2.078108e+06\n",
      "824     -5.012588e+06\n",
      "57869   -5.397972e+06\n",
      "12332   -8.463118e+05\n",
      "40798   -7.170558e+06\n",
      "Name: 取引価格（総額）, Length: 7584, dtype: float64\n",
      "4582672.092457856\n"
     ]
    }
   ],
   "source": [
    "y_pred_lr = lr_multi.predict(X_test)\n",
    "\n",
    "# 残差\n",
    "print(y_pred_lr - y_test)\n",
    "\n",
    "# MAE\n",
    "print(mean_absolute_error(y_pred_lr, y_test))"
   ]
  },
  {
   "cell_type": "code",
   "execution_count": 30,
   "metadata": {},
   "outputs": [
    {
     "name": "stderr",
     "output_type": "stream",
     "text": [
      "/Users/soichi/.pyenv/versions/3.7.5/envs/DataAnalysisCourse/lib/python3.7/site-packages/sklearn/linear_model/coordinate_descent.py:475: ConvergenceWarning: Objective did not converge. You might want to increase the number of iterations. Duality gap: 2.4745936129868493e+17, tolerance: 296668101843930.0\n",
      "  positive)\n"
     ]
    },
    {
     "data": {
      "text/plain": [
       "Lasso(alpha=1, copy_X=True, fit_intercept=True, max_iter=1000, normalize=True,\n",
       "      positive=False, precompute=False, random_state=None, selection='cyclic',\n",
       "      tol=0.0001, warm_start=False)"
      ]
     },
     "execution_count": 30,
     "metadata": {},
     "output_type": "execute_result"
    }
   ],
   "source": [
    "lasso = Lasso(alpha=1, normalize=True)\n",
    "lasso.fit(X_train, y_train)\n",
    "\n",
    "# print(lasso.coef_)\n",
    "# print(lasso.intercept_)"
   ]
  },
  {
   "cell_type": "code",
   "execution_count": 31,
   "metadata": {},
   "outputs": [
    {
     "name": "stdout",
     "output_type": "stream",
     "text": [
      "4583006.341144557\n"
     ]
    }
   ],
   "source": [
    "y_pred_lasso = lasso.predict(X_test)\n",
    "\n",
    "print(mean_absolute_error(y_pred_lasso, y_test))"
   ]
  },
  {
   "cell_type": "code",
   "execution_count": null,
   "metadata": {},
   "outputs": [],
   "source": []
  }
 ],
 "metadata": {
  "kernelspec": {
   "display_name": "Python 3",
   "language": "python",
   "name": "python3"
  },
  "language_info": {
   "codemirror_mode": {
    "name": "ipython",
    "version": 3
   },
   "file_extension": ".py",
   "mimetype": "text/x-python",
   "name": "python",
   "nbconvert_exporter": "python",
   "pygments_lexer": "ipython3",
   "version": "3.7.5"
  }
 },
 "nbformat": 4,
 "nbformat_minor": 2
}
