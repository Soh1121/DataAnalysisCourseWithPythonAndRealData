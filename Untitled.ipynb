{
 "cells": [
  {
   "cell_type": "code",
   "execution_count": 7,
   "metadata": {},
   "outputs": [],
   "source": [
    "import numpy as np\n",
    "import matplotlib.pyplot as plt\n",
    "import pandas as pd\n",
    "import random\n",
    "%matplotlib inline\n",
    "import seaborn as sns\n",
    "from sklearn.linear_model import LinearRegression\n",
    "from sklearn.model_selection import train_test_split\n",
    "\n",
    "import requests\n",
    "import json\n",
    "import re"
   ]
  },
  {
   "cell_type": "code",
   "execution_count": 8,
   "metadata": {},
   "outputs": [],
   "source": [
    "url_path = \"https://www.land.mlit.go.jp/webland/api/TradeListSearch?from=20171&to=20184&area=13\"\n",
    "request_result = requests.get(url_path)\n",
    "data_json = request_result.json()[\"data\"]"
   ]
  },
  {
   "cell_type": "code",
   "execution_count": 9,
   "metadata": {},
   "outputs": [
    {
     "name": "stdout",
     "output_type": "stream",
     "text": [
      "63052\n"
     ]
    }
   ],
   "source": [
    "print(len(data_json))"
   ]
  },
  {
   "cell_type": "code",
   "execution_count": 10,
   "metadata": {},
   "outputs": [
    {
     "name": "stdout",
     "output_type": "stream",
     "text": [
      "(63052, 27)\n"
     ]
    }
   ],
   "source": [
    "data_pd = pd.io.json.json_normalize(data_json)\n",
    "print(data_pd.shape)"
   ]
  },
  {
   "cell_type": "code",
   "execution_count": 11,
   "metadata": {},
   "outputs": [
    {
     "name": "stdout",
     "output_type": "stream",
     "text": [
      "        Type MunicipalityCode Prefecture Municipality DistrictName TradePrice  \\\n",
      "0   中古マンション等            13101        東京都         千代田区          飯田橋   24000000   \n",
      "1   中古マンション等            13101        東京都         千代田区          飯田橋   13000000   \n",
      "2  宅地(土地と建物)            13101        東京都         千代田区          飯田橋  250000000   \n",
      "3   中古マンション等            13101        東京都         千代田区          飯田橋   22000000   \n",
      "4   中古マンション等            13101        東京都         千代田区          飯田橋   69000000   \n",
      "5   中古マンション等            13101        東京都         千代田区          飯田橋   21000000   \n",
      "6   中古マンション等            13101        東京都         千代田区          飯田橋   81000000   \n",
      "7   中古マンション等            13101        東京都         千代田区          飯田橋   45000000   \n",
      "8   中古マンション等            13101        東京都         千代田区          飯田橋   66000000   \n",
      "9   中古マンション等            13101        東京都         千代田区          飯田橋   19000000   \n",
      "\n",
      "  FloorPlan Area BuildingYear Structure  ... Region LandShape Frontage  \\\n",
      "0      １ＬＤＫ   35        昭和60年       ＳＲＣ  ...    NaN       NaN      NaN   \n",
      "1        １Ｋ   20        昭和57年       ＳＲＣ  ...    NaN       NaN      NaN   \n",
      "2       NaN   80        昭和61年        ＲＣ  ...    商業地      ほぼ台形      6.8   \n",
      "3        １Ｋ   30        昭和60年       ＳＲＣ  ...    NaN       NaN      NaN   \n",
      "4      ２ＬＤＫ   70        昭和59年       ＳＲＣ  ...    NaN       NaN      NaN   \n",
      "5        １Ｋ   25        昭和60年       ＳＲＣ  ...    NaN       NaN      NaN   \n",
      "6      ３ＬＤＫ   70        平成19年        ＲＣ  ...    NaN       NaN      NaN   \n",
      "7      １ＬＤＫ   45        昭和57年       ＳＲＣ  ...    NaN       NaN      NaN   \n",
      "8      ２ＬＤＫ   55        昭和59年       ＳＲＣ  ...    NaN       NaN      NaN   \n",
      "9        １Ｋ   20        平成15年        ＲＣ  ...    NaN       NaN      NaN   \n",
      "\n",
      "  TotalFloorArea Direction Classification Breadth Remarks PricePerUnit  \\\n",
      "0            NaN       NaN            NaN     NaN     NaN          NaN   \n",
      "1            NaN       NaN            NaN     NaN     NaN          NaN   \n",
      "2            330        南西             区道     8.0     NaN          NaN   \n",
      "3            NaN       NaN            NaN     NaN     NaN          NaN   \n",
      "4            NaN       NaN            NaN     NaN     NaN          NaN   \n",
      "5            NaN       NaN            NaN     NaN     NaN          NaN   \n",
      "6            NaN       NaN            NaN     NaN     NaN          NaN   \n",
      "7            NaN       NaN            NaN     NaN     NaN          NaN   \n",
      "8            NaN       NaN            NaN     NaN     NaN          NaN   \n",
      "9            NaN       NaN            NaN     NaN     NaN          NaN   \n",
      "\n",
      "  UnitPrice  \n",
      "0       NaN  \n",
      "1       NaN  \n",
      "2       NaN  \n",
      "3       NaN  \n",
      "4       NaN  \n",
      "5       NaN  \n",
      "6       NaN  \n",
      "7       NaN  \n",
      "8       NaN  \n",
      "9       NaN  \n",
      "\n",
      "[10 rows x 27 columns]\n"
     ]
    }
   ],
   "source": [
    "print(data_pd.head(10))"
   ]
  },
  {
   "cell_type": "code",
   "execution_count": 12,
   "metadata": {},
   "outputs": [
    {
     "name": "stdout",
     "output_type": "stream",
     "text": [
      "(63052, 30)\n"
     ]
    }
   ],
   "source": [
    "data_from_csv  = pd.read_csv(\"13_Tokyo_20171_20184.csv\", encoding='cp932')\n",
    "print(data_from_csv.shape)"
   ]
  },
  {
   "cell_type": "code",
   "execution_count": 13,
   "metadata": {},
   "outputs": [
    {
     "name": "stdout",
     "output_type": "stream",
     "text": [
      "No                     1\n",
      "種類              中古マンション等\n",
      "地域                   NaN\n",
      "市区町村コード            13101\n",
      "都道府県名                東京都\n",
      "市区町村名               千代田区\n",
      "地区名                  飯田橋\n",
      "最寄駅：名称               飯田橋\n",
      "最寄駅：距離（分）              3\n",
      "取引価格（総額）        24000000\n",
      "坪単価                  NaN\n",
      "間取り                 １ＬＤＫ\n",
      "面積（㎡）                 35\n",
      "取引価格（㎡単価）            NaN\n",
      "土地の形状                NaN\n",
      "間口                   NaN\n",
      "延床面積（㎡）              NaN\n",
      "建築年                昭和60年\n",
      "建物の構造                ＳＲＣ\n",
      "用途                    住宅\n",
      "今後の利用目的               住宅\n",
      "前面道路：方位              NaN\n",
      "前面道路：種類              NaN\n",
      "前面道路：幅員（ｍ）           NaN\n",
      "都市計画                商業地域\n",
      "建ぺい率（％）               80\n",
      "容積率（％）               700\n",
      "取引時点          2018年第４四半期\n",
      "改装                   未改装\n",
      "取引の事情等               NaN\n",
      "Name: 0, dtype: object\n"
     ]
    }
   ],
   "source": [
    "print(data_from_csv.iloc[0])"
   ]
  },
  {
   "cell_type": "code",
   "execution_count": 14,
   "metadata": {},
   "outputs": [
    {
     "name": "stdout",
     "output_type": "stream",
     "text": [
      "   No         種類   地域  市区町村コード 都道府県名 市区町村名  地区名 最寄駅：名称 最寄駅：距離（分）   取引価格（総額）  \\\n",
      "0   1   中古マンション等  NaN    13101   東京都  千代田区  飯田橋    飯田橋         3   24000000   \n",
      "1   2   中古マンション等  NaN    13101   東京都  千代田区  飯田橋    飯田橋         4   13000000   \n",
      "2   3  宅地(土地と建物)  商業地    13101   東京都  千代田区  飯田橋    飯田橋         3  250000000   \n",
      "3   4   中古マンション等  NaN    13101   東京都  千代田区  飯田橋    飯田橋         3   22000000   \n",
      "4   5   中古マンション等  NaN    13101   東京都  千代田区  飯田橋    飯田橋         1   69000000   \n",
      "5   6   中古マンション等  NaN    13101   東京都  千代田区  飯田橋    飯田橋         3   21000000   \n",
      "6   7   中古マンション等  NaN    13101   東京都  千代田区  飯田橋    飯田橋         4   81000000   \n",
      "7   8   中古マンション等  NaN    13101   東京都  千代田区  飯田橋    飯田橋         4   45000000   \n",
      "8   9   中古マンション等  NaN    13101   東京都  千代田区  飯田橋    飯田橋         1   66000000   \n",
      "9  10   中古マンション等  NaN    13101   東京都  千代田区  飯田橋    飯田橋         5   19000000   \n",
      "\n",
      "   ...  今後の利用目的 前面道路：方位 前面道路：種類  前面道路：幅員（ｍ）  都市計画 建ぺい率（％） 容積率（％）        取引時点  \\\n",
      "0  ...       住宅     NaN     NaN         NaN  商業地域    80.0  700.0  2018年第４四半期   \n",
      "1  ...       住宅     NaN     NaN         NaN  商業地域    80.0  700.0  2018年第３四半期   \n",
      "2  ...      事務所      南西      区道         8.0  商業地域    80.0  500.0  2018年第２四半期   \n",
      "3  ...       住宅     NaN     NaN         NaN  商業地域    80.0  700.0  2018年第２四半期   \n",
      "4  ...       住宅     NaN     NaN         NaN  商業地域    80.0  600.0  2018年第２四半期   \n",
      "5  ...      事務所     NaN     NaN         NaN  商業地域    80.0  700.0  2018年第２四半期   \n",
      "6  ...      その他     NaN     NaN         NaN  商業地域    80.0  500.0  2018年第２四半期   \n",
      "7  ...       住宅     NaN     NaN         NaN  商業地域    80.0  700.0  2018年第１四半期   \n",
      "8  ...       住宅     NaN     NaN         NaN  商業地域    80.0  600.0  2017年第４四半期   \n",
      "9  ...       住宅     NaN     NaN         NaN  商業地域    80.0  500.0  2017年第４四半期   \n",
      "\n",
      "    改装 取引の事情等  \n",
      "0  未改装    NaN  \n",
      "1  未改装    NaN  \n",
      "2  NaN    NaN  \n",
      "3  未改装    NaN  \n",
      "4  未改装    NaN  \n",
      "5  未改装    NaN  \n",
      "6  未改装    NaN  \n",
      "7  改装済    NaN  \n",
      "8  改装済    NaN  \n",
      "9  未改装    NaN  \n",
      "\n",
      "[10 rows x 30 columns]\n"
     ]
    }
   ],
   "source": [
    "print(data_from_csv.head(10))"
   ]
  },
  {
   "cell_type": "code",
   "execution_count": null,
   "metadata": {},
   "outputs": [],
   "source": []
  }
 ],
 "metadata": {
  "kernelspec": {
   "display_name": "Python 3",
   "language": "python",
   "name": "python3"
  },
  "language_info": {
   "codemirror_mode": {
    "name": "ipython",
    "version": 3
   },
   "file_extension": ".py",
   "mimetype": "text/x-python",
   "name": "python",
   "nbconvert_exporter": "python",
   "pygments_lexer": "ipython3",
   "version": "3.7.5"
  }
 },
 "nbformat": 4,
 "nbformat_minor": 2
}
