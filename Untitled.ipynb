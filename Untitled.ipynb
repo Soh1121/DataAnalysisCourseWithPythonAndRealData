{
 "cells": [
  {
   "cell_type": "code",
   "execution_count": 2,
   "metadata": {},
   "outputs": [],
   "source": [
    "import numpy as np\n",
    "import pandas as pd\n",
    "import matplotlib.pyplot as plt\n",
    "%matplotlib inline\n",
    "\n",
    "from sklearn.ensemble import RandomForestClassifier\n",
    "from sklearn.model_selection import train_test_split\n",
    "from sklearn.metrics import accuracy_score\n",
    "from sklearn.feature_extraction.text import TfidfVectorizer\n",
    "\n",
    "import MeCab"
   ]
  },
  {
   "cell_type": "code",
   "execution_count": 3,
   "metadata": {},
   "outputs": [
    {
     "name": "stdout",
     "output_type": "stream",
     "text": [
      "                           0  1\n",
      "0            動画編集に手を出してしまった…  0\n",
      "1            嬉しいーーありがとうございます  0\n",
      "2  の、に比べたらやらの知識必要だけど、そこそこ使える  0\n",
      "3                      きたーーー  0\n",
      "4      またついた で星だ。ここまでくると怪しい笑  0\n"
     ]
    }
   ],
   "source": [
    "data_tweet = pd.read_csv('tweets.tsv',  sep=\"\\t\")\n",
    "data_tweet = data_tweet.dropna()\n",
    "Y = data_tweet.iloc[:,1].values\n",
    "\n",
    "print(data_tweet.head())"
   ]
  },
  {
   "cell_type": "code",
   "execution_count": 4,
   "metadata": {},
   "outputs": [],
   "source": [
    "tagger = MeCab.Tagger()\n",
    "tagger.parse('')\n",
    "\n",
    "# 文字列を単語で分割しリストに格納する\n",
    "def word_tokenaize(texts):\n",
    "    node = tagger.parseToNode(texts)\n",
    "    word_list = []\n",
    "    while node:\n",
    "        word_type = node.feature.split(\",\")[0]\n",
    "        if (word_type == '名詞'):#|(word_type == '形容詞'):\n",
    "            word = node.feature.split(\",\")[6]\n",
    "            if word != '*':\n",
    "              word_list.append(word)\n",
    "        node = node.next\n",
    "\n",
    "    return word_list"
   ]
  },
  {
   "cell_type": "code",
   "execution_count": 5,
   "metadata": {},
   "outputs": [],
   "source": [
    "vectorizer = TfidfVectorizer(tokenizer=word_tokenaize)\n",
    "\n",
    "tweet_matrix = vectorizer.fit_transform(data_tweet.iloc[:,0])\n",
    "X = tweet_matrix.toarray()"
   ]
  },
  {
   "cell_type": "code",
   "execution_count": 6,
   "metadata": {},
   "outputs": [
    {
     "name": "stdout",
     "output_type": "stream",
     "text": [
      "0.9472789115646258\n"
     ]
    }
   ],
   "source": [
    "X_train, X_test, y_train, y_test = train_test_split(X, Y, test_size=0.7)\n",
    "\n",
    "# modelインスタンス\n",
    "clf = RandomForestClassifier(n_estimators=50, max_depth=20)\n",
    "\n",
    "# 学習\n",
    "clf.fit(X_train, y_train)\n",
    "\n",
    "# 評価\n",
    "y_pred = clf.predict(X_test)\n",
    "print(accuracy_score(y_test, y_pred))"
   ]
  },
  {
   "cell_type": "code",
   "execution_count": 10,
   "metadata": {},
   "outputs": [
    {
     "data": {
      "image/png": "[encoded data removed]",
      "text/plain": [
       "<Figure size 432x432 with 1 Axes>"
      ]
     },
     "metadata": {
      "needs_background": "light"
     },
     "output_type": "display_data"
    }
   ],
   "source": [
    "words_list = vectorizer.get_feature_names()\n",
    "\n",
    "features = np.array(np.arange(0, len(words_list)))\n",
    "# 特徴量の重要度\n",
    "importances = clf.feature_importances_\n",
    "\n",
    "indices = np.argsort(importances)[-11:]\n",
    "plt.figure(figsize=(6, 6))\n",
    "plt.barh(range(len(indices)), importances[indices], color='b', align='center')\n",
    "plt.yticks(range(len(indices)), features[indices])\n",
    "plt.savefig('rf_importance_tweet.png')"
   ]
  },
  {
   "cell_type": "code",
   "execution_count": 11,
   "metadata": {},
   "outputs": [
    {
     "name": "stdout",
     "output_type": "stream",
     "text": [
      "1053 教科書\n",
      "514 人気\n",
      "171 エンジニア\n",
      "415 ランク\n",
      "414 ランキング\n",
      "479 中\n",
      "1070 新刊\n",
      "1125 書籍\n",
      "549 会社\n",
      "1304 犬\n",
      "1380 研究所\n"
     ]
    }
   ],
   "source": [
    "for i in indices:\n",
    "    print(i, words_list[i])"
   ]
  },
  {
   "cell_type": "code",
   "execution_count": null,
   "metadata": {},
   "outputs": [],
   "source": []
  }
 ],
 "metadata": {
  "kernelspec": {
   "display_name": "Python 3",
   "language": "python",
   "name": "python3"
  },
  "language_info": {
   "codemirror_mode": {
    "name": "ipython",
    "version": 3
   },
   "file_extension": ".py",
   "mimetype": "text/x-python",
   "name": "python",
   "nbconvert_exporter": "python",
   "pygments_lexer": "ipython3",
   "version": "3.7.5"
  }
 },
 "nbformat": 4,
 "nbformat_minor": 2
}
