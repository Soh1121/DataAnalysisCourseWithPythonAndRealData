{
 "cells": [
  {
   "cell_type": "code",
   "execution_count": 1,
   "metadata": {},
   "outputs": [],
   "source": [
    "import numpy as np\n",
    "import pandas as pd\n",
    "import matplotlib.pyplot as plt\n",
    "%matplotlib inline\n",
    "import seaborn as sns\n",
    "from sklearn.linear_model import LinearRegression, Ridge, Lasso\n",
    "from sklearn.datasets import load_boston\n",
    "from sklearn.metrics import mean_absolute_error\n",
    "from sklearn.model_selection import train_test_split"
   ]
  },
  {
   "cell_type": "code",
   "execution_count": 2,
   "metadata": {},
   "outputs": [
    {
     "name": "stdout",
     "output_type": "stream",
     "text": [
      "[[-1.08011358e-01  4.64204584e-02  2.05586264e-02  2.68673382e+00\n",
      "  -1.77666112e+01  3.80986521e+00  6.92224640e-04 -1.47556685e+00\n",
      "   3.06049479e-01 -1.23345939e-02 -9.52747232e-01  9.31168327e-03\n",
      "  -5.24758378e-01]]\n",
      "[36.45948839]\n"
     ]
    }
   ],
   "source": [
    "boston = load_boston()\n",
    "data_boston = pd.DataFrame(boston.data, columns=boston.feature_names)\n",
    "data_boston['PRICE'] = boston.target\n",
    "           \n",
    "lr_multi = LinearRegression()\n",
    "\n",
    "x_column_list_for_multi = ['CRIM', 'ZN', 'INDUS', 'CHAS', 'NOX', 'RM', 'AGE', 'DIS', 'RAD', 'TAX', 'PTRATIO', 'B', 'LSTAT']\n",
    "y_column_list_for_multi = ['PRICE']\n",
    "\n",
    "lr_multi.fit(data_boston[x_column_list_for_multi], data_boston[y_column_list_for_multi])\n",
    "\n",
    "print(lr_multi.coef_)\n",
    "print(lr_multi.intercept_)"
   ]
  },
  {
   "cell_type": "code",
   "execution_count": 3,
   "metadata": {},
   "outputs": [
    {
     "name": "stdout",
     "output_type": "stream",
     "text": [
      "[[-1.31514932e-01  5.39289438e-02  3.44154777e-02  2.26594701e+00\n",
      "  -2.01317108e+01  2.89191502e+00  2.16660797e-02 -1.47805781e+00\n",
      "   3.89570647e-01 -1.17544831e-02 -1.11433091e+00  1.20308294e-02\n",
      "  -6.11893346e-01]]\n",
      "[44.24115644]\n",
      "         PRICE\n",
      "257  -7.343362\n",
      "98  -10.153634\n",
      "227   1.050203\n",
      "401  11.377031\n",
      "160   6.798611\n",
      "..         ...\n",
      "188   3.159667\n",
      "143  -3.426754\n",
      "395   8.221881\n",
      "378   2.922574\n",
      "100  -3.243134\n",
      "\n",
      "[152 rows x 1 columns]\n",
      "3.77462823945812\n"
     ]
    }
   ],
   "source": [
    "X_train, X_test, y_train, y_test = train_test_split(data_boston[x_column_list_for_multi], data_boston[y_column_list_for_multi], test_size=0.3)\n",
    "lr_multi2 = LinearRegression()\n",
    "\n",
    "lr_multi2.fit(X_train, y_train)\n",
    "print(lr_multi2.coef_)\n",
    "print(lr_multi2.intercept_)\n",
    "\n",
    "y_pred = lr_multi2.predict(X_test)\n",
    "\n",
    "# 残差\n",
    "print(y_pred - y_test)\n",
    "\n",
    "# MAE\n",
    "print(mean_absolute_error(y_pred, y_test))"
   ]
  },
  {
   "cell_type": "code",
   "execution_count": null,
   "metadata": {},
   "outputs": [],
   "source": []
  }
 ],
 "metadata": {
  "kernelspec": {
   "display_name": "Python 3",
   "language": "python",
   "name": "python3"
  },
  "language_info": {
   "codemirror_mode": {
    "name": "ipython",
    "version": 3
   },
   "file_extension": ".py",
   "mimetype": "text/x-python",
   "name": "python",
   "nbconvert_exporter": "python",
   "pygments_lexer": "ipython3",
   "version": "3.7.5"
  }
 },
 "nbformat": 4,
 "nbformat_minor": 2
}
