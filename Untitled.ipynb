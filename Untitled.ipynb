{
  "nbformat": 4,
  "nbformat_minor": 0,
  "metadata": {
    "colab": {
      "name": "Untitled.ipynb",
      "provenance": []
    },
    "kernelspec": {
      "name": "python3",
      "display_name": "Python 3"
    }
  },
  "cells": [
    {
      "cell_type": "code",
      "metadata": {
        "id": "KrKD7iid6YvX",
        "colab_type": "code",
        "colab": {
          "base_uri": "https://localhost:8080/",
          "height": 80
        },
        "outputId": "1fb55f84-fd4c-470f-ae6d-8c8eda3ce9e7"
      },
      "source": [
        "from keras.datasets import mnist\n",
        "from keras.utils import to_categorical\n",
        "\n",
        "from keras.layers import Dense\n",
        "from keras.models import Sequential\n",
        "from keras.models import load_model\n",
        "\n",
        "import matplotlib.pyplot as plt\n",
        "from PIL import Image\n",
        "import os\n",
        "import numpy as np\n",
        "from sklearn.model_selection import train_test_split"
      ],
      "execution_count": 1,
      "outputs": [
        {
          "output_type": "stream",
          "text": [
            "Using TensorFlow backend.\n"
          ],
          "name": "stderr"
        },
        {
          "output_type": "display_data",
          "data": {
            "text/html": [
              "<p style=\"color: red;\">\n",
              "The default version of TensorFlow in Colab will soon switch to TensorFlow 2.x.<br>\n",
              "We recommend you <a href=\"https://www.tensorflow.org/guide/migrate\" target=\"_blank\">upgrade</a> now \n",
              "or ensure your notebook will continue to use TensorFlow 1.x via the <code>%tensorflow_version 1.x</code> magic:\n",
              "<a href=\"https://colab.research.google.com/notebooks/tensorflow_version.ipynb\" target=\"_blank\">more info</a>.</p>\n"
            ],
            "text/plain": [
              "<IPython.core.display.HTML object>"
            ]
          },
          "metadata": {
            "tags": []
          }
        }
      ]
    },
    {
      "cell_type": "code",
      "metadata": {
        "id": "dLXbR3YA6xX-",
        "colab_type": "code",
        "colab": {
          "base_uri": "https://localhost:8080/",
          "height": 34
        },
        "outputId": "8900dadd-96b5-4fe6-9cfd-804ea83acb65"
      },
      "source": [
        "from google.colab import drive\n",
        "drive.mount('/content/drive')"
      ],
      "execution_count": 6,
      "outputs": [
        {
          "output_type": "stream",
          "text": [
            "Mounted at /content/drive\n"
          ],
          "name": "stdout"
        }
      ]
    },
    {
      "cell_type": "code",
      "metadata": {
        "id": "K0IMbMWU6-9e",
        "colab_type": "code",
        "colab": {
          "base_uri": "https://localhost:8080/",
          "height": 54
        },
        "outputId": "f4f3e10b-61a0-493c-cc20-52a7b9a92617"
      },
      "source": [
        "folder_path = \"/content/drive/My Drive/Colab Notebooks/data/templeAndShrine/\"\n",
        "file_list = os.listdir(folder_path)\n",
        "print(file_list)"
      ],
      "execution_count": 9,
      "outputs": [
        {
          "output_type": "stream",
          "text": [
            "['shrine0.jpg', 'shrine2.jpg', 'shrine1.jpg', 'shrine3.jpg', 'shrine6.jpg', 'shrine5.jpg', 'shrine4.jpg', 'shrine9.jpg', 'shrine8.jpg', 'shrine7.jpg', 'shrine10.jpg', 'shrine11.jpg', 'shrine19.jpg', 'shrine12.jpg', 'shrine13.jpg', 'shrine14.jpg', 'shrine21.jpg', 'shrine20.jpg', 'shrine17.jpg', 'shrine18.jpg', 'shrine16.jpg', 'shrine15.jpg', 'shrine24.jpg', 'shrine22.jpg', 'shrine28.jpg', 'shrine25.jpg', 'shrine27.jpg', 'shrine23.jpg', 'shrine29.jpg', 'shrine31.jpg', 'shrine32.jpg', 'shrine35.jpg', 'shrine34.jpg', 'shrine26.jpg', 'shrine36.jpg', 'shrine37.jpg', 'shrine38.jpg', 'shrine41.jpg', 'shrine43.jpg', 'shrine40.jpg', 'shrine39.jpg', 'shrine42.jpg', 'shrine44.jpg', 'shrine46.jpg', 'shrine30.jpg', 'shrine47.jpg', 'shrine48.jpg', 'shrine49.jpg', 'shrine50.jpg', 'shrine52.jpg', 'shrine53.jpg', 'shrine54.jpg', 'shrine51.jpg', 'shrine56.jpg', 'shrine55.jpg', 'shrine33.jpg', 'shrine58.jpg', 'shrine59.jpg', 'shrine57.jpg', 'shrine62.jpg', 'shrine61.jpg', 'shrine63.jpg', 'shrine68.jpg', 'shrine65.jpg', 'shrine66.jpg', 'shrine64.jpg', 'shrine45.jpg', 'shrine69.jpg', 'shrine73.jpg', 'shrine71.jpg', 'shrine72.jpg', 'shrine81.jpg', 'shrine80.jpg', 'shrine75.jpg', 'shrine74.jpg', 'shrine79.jpg', 'shrine76.jpg', 'shrine60.jpg', 'shrine82.jpg', 'shrine84.jpg', 'shrine85.jpg', 'shrine88.jpg', 'shrine86.jpg', 'shrine83.jpg', 'shrine89.jpg', 'shrine90.jpg', 'shrine91.jpg', 'shrine87.jpg', 'shrine67.jpg', 'shrine92.jpg', 'shrine96.jpg', 'shrine97.jpg', 'shrine93.jpg', 'shrine95.jpg', 'shrine70.jpg', 'shrine98.jpg', 'temple2.jpg', 'shrine99.jpg', 'temple3.jpg', 'temple0.jpg', 'temple5.jpg', 'shrine77.jpg', 'temple4.jpg', 'temple8.jpg', 'temple7.jpg', 'temple10.jpg', 'temple19.jpg', 'temple17.jpg', 'temple9.jpg', 'temple15.jpg', 'temple12.jpg', 'shrine78.jpg', 'temple20.jpg', 'temple22.jpg', 'temple23.jpg', 'temple25.jpg', 'temple21.jpg', 'temple24.jpg', 'temple27.jpg', 'temple28.jpg', 'temple26.jpg', 'temple29.jpg', 'shrine94.jpg', 'temple30.jpg', 'temple31.jpg', 'temple33.jpg', 'temple34.jpg', 'temple1.jpg', 'temple35.jpg', 'temple37.jpg', 'temple38.jpg', 'temple39.jpg', 'temple40.jpg', 'temple36.jpg', 'temple6.jpg', 'temple41.jpg', 'temple47.jpg', 'temple43.jpg', 'temple46.jpg', 'temple44.jpg', 'temple42.jpg', 'temple45.jpg', 'temple51.jpg', 'temple49.jpg', 'temple52.jpg', 'temple11.jpg', 'temple53.jpg', 'temple54.jpg', 'temple55.jpg', 'temple13.jpg', 'temple58.jpg', 'temple56.jpg', 'temple60.jpg', 'temple57.jpg', 'temple63.jpg', 'temple62.jpg', 'temple61.jpg', 'temple14.jpg', 'temple64.jpg', 'temple68.jpg', 'temple66.jpg', 'temple65.jpg', 'temple67.jpg', 'temple74.jpg', 'temple70.jpg', 'temple71.jpg', 'temple73.jpg', 'temple69.jpg', 'temple16.jpg', 'temple75.jpg', 'temple76.jpg', 'temple78.jpg', 'temple80.jpg', 'temple81.jpg', 'temple82.jpg', 'temple79.jpg', 'temple18.jpg', 'temple84.jpg', 'temple83.jpg', 'temple85.jpg', 'temple86.jpg', 'temple90.jpg', 'temple88.jpg', 'temple89.jpg', 'temple91.jpg', 'temple93.jpg', 'temple92.jpg', 'temple94.jpg', 'temple32.jpg', 'temple96.jpg', 'temple95.jpg', 'temple97.jpg', 'temple98.jpg', 'temple48.jpg', 'temple50.jpg', 'temple59.jpg', 'temple72.jpg', 'temple77.jpg', 'temple87.jpg', 'temple99.jpg']\n"
          ],
          "name": "stdout"
        }
      ]
    },
    {
      "cell_type": "code",
      "metadata": {
        "id": "ViqQkeYD7dNX",
        "colab_type": "code",
        "colab": {
          "base_uri": "https://localhost:8080/",
          "height": 153
        },
        "outputId": "f463650f-70f7-4ca2-a680-9fca072a99bd"
      },
      "source": [
        "X = []\n",
        "Y = []\n",
        "image_size = 30\n",
        "\n",
        "for file in file_list:\n",
        "  try:\n",
        "    image = Image.open(folder_path + file)\n",
        "  except:\n",
        "    print('error', file)\n",
        "    continue\n",
        "  \n",
        "  image = image.convert(\"RGB\")\n",
        "  image = image.resize((image_size, image_size))\n",
        "  data = np.asarray(image)\n",
        "  X.append(data)\n",
        "  if 'temple' in file:\n",
        "    Y.append(0)\n",
        "  else:\n",
        "    Y.append(1)\n",
        "\n",
        "X = np.array(X)\n",
        "Y = np.array(Y)\n",
        "print(X.shape)\n",
        "print(Y.shape)"
      ],
      "execution_count": 10,
      "outputs": [
        {
          "output_type": "stream",
          "text": [
            "error shrine50.jpg\n"
          ],
          "name": "stdout"
        },
        {
          "output_type": "stream",
          "text": [
            "/usr/local/lib/python3.6/dist-packages/PIL/Image.py:914: UserWarning: Palette images with Transparency   expressed in bytes should be converted to RGBA images\n",
            "  'to RGBA images')\n"
          ],
          "name": "stderr"
        },
        {
          "output_type": "stream",
          "text": [
            "error temple7.jpg\n",
            "error temple75.jpg\n",
            "error temple86.jpg\n",
            "(196, 30, 30, 3)\n",
            "(196,)\n"
          ],
          "name": "stdout"
        }
      ]
    },
    {
      "cell_type": "code",
      "metadata": {
        "id": "X_feWEuL8h6Q",
        "colab_type": "code",
        "colab": {}
      },
      "source": [
        "X_train, X_test, y_train, y_test = train_test_split(X, Y, test_size=0.25)\n",
        "\n",
        "# 画像を1次元配列にreshape\n",
        "X_train = X_train.reshape(-1, image_size * image_size * 3)\n",
        "X_test = X_test.reshape(-1, image_size * image_size * 3)\n",
        "\n",
        "# 0〜1に入るように正規化\n",
        "X_train = X_train.astype('float32')/255\n",
        "X_test = X_test.astype('float32')/255\n",
        "\n",
        "# one hot encoding\n",
        "y_train = to_categorical(y_train)\n",
        "y_test = to_categorical(y_test)"
      ],
      "execution_count": 0,
      "outputs": []
    },
    {
      "cell_type": "code",
      "metadata": {
        "id": "ibjTu7xfD37-",
        "colab_type": "code",
        "colab": {
          "base_uri": "https://localhost:8080/",
          "height": 1000
        },
        "outputId": "c5c8ddba-9890-4dc3-fca9-257c08326a39"
      },
      "source": [
        "model = Sequential()\n",
        "model.add(Dense(64, activation='relu', input_dim=image_size * image_size * 3))\n",
        "model.add(Dense(2, activation='softmax'))\n",
        "\n",
        "model.compile(optimizer = 'Adam',\n",
        "              loss = 'categorical_crossentropy',\n",
        "              metrics=['accuracy'])\n",
        "\n",
        "model.fit(X_train, y_train, epochs=20, batch_size=20)\n",
        "\n",
        "model.evaluate(X_test, y_test)"
      ],
      "execution_count": 13,
      "outputs": [
        {
          "output_type": "stream",
          "text": [
            "WARNING:tensorflow:From /usr/local/lib/python3.6/dist-packages/keras/backend/tensorflow_backend.py:541: The name tf.placeholder is deprecated. Please use tf.compat.v1.placeholder instead.\n",
            "\n",
            "WARNING:tensorflow:From /usr/local/lib/python3.6/dist-packages/keras/backend/tensorflow_backend.py:4432: The name tf.random_uniform is deprecated. Please use tf.random.uniform instead.\n",
            "\n",
            "WARNING:tensorflow:From /usr/local/lib/python3.6/dist-packages/keras/optimizers.py:793: The name tf.train.Optimizer is deprecated. Please use tf.compat.v1.train.Optimizer instead.\n",
            "\n",
            "WARNING:tensorflow:From /usr/local/lib/python3.6/dist-packages/keras/backend/tensorflow_backend.py:3576: The name tf.log is deprecated. Please use tf.math.log instead.\n",
            "\n",
            "WARNING:tensorflow:From /usr/local/lib/python3.6/dist-packages/tensorflow_core/python/ops/math_grad.py:1424: where (from tensorflow.python.ops.array_ops) is deprecated and will be removed in a future version.\n",
            "Instructions for updating:\n",
            "Use tf.where in 2.0, which has the same broadcast rule as np.where\n",
            "WARNING:tensorflow:From /usr/local/lib/python3.6/dist-packages/keras/backend/tensorflow_backend.py:1033: The name tf.assign_add is deprecated. Please use tf.compat.v1.assign_add instead.\n",
            "\n",
            "WARNING:tensorflow:From /usr/local/lib/python3.6/dist-packages/keras/backend/tensorflow_backend.py:1020: The name tf.assign is deprecated. Please use tf.compat.v1.assign instead.\n",
            "\n",
            "WARNING:tensorflow:From /usr/local/lib/python3.6/dist-packages/keras/backend/tensorflow_backend.py:3005: The name tf.Session is deprecated. Please use tf.compat.v1.Session instead.\n",
            "\n",
            "Epoch 1/20\n",
            "WARNING:tensorflow:From /usr/local/lib/python3.6/dist-packages/keras/backend/tensorflow_backend.py:190: The name tf.get_default_session is deprecated. Please use tf.compat.v1.get_default_session instead.\n",
            "\n",
            "WARNING:tensorflow:From /usr/local/lib/python3.6/dist-packages/keras/backend/tensorflow_backend.py:197: The name tf.ConfigProto is deprecated. Please use tf.compat.v1.ConfigProto instead.\n",
            "\n",
            "WARNING:tensorflow:From /usr/local/lib/python3.6/dist-packages/keras/backend/tensorflow_backend.py:207: The name tf.global_variables is deprecated. Please use tf.compat.v1.global_variables instead.\n",
            "\n",
            "WARNING:tensorflow:From /usr/local/lib/python3.6/dist-packages/keras/backend/tensorflow_backend.py:216: The name tf.is_variable_initialized is deprecated. Please use tf.compat.v1.is_variable_initialized instead.\n",
            "\n",
            "WARNING:tensorflow:From /usr/local/lib/python3.6/dist-packages/keras/backend/tensorflow_backend.py:223: The name tf.variables_initializer is deprecated. Please use tf.compat.v1.variables_initializer instead.\n",
            "\n",
            "147/147 [==============================] - 1s 6ms/step - loss: 1.6284 - acc: 0.4422\n",
            "Epoch 2/20\n",
            "147/147 [==============================] - 0s 315us/step - loss: 0.7382 - acc: 0.5510\n",
            "Epoch 3/20\n",
            "147/147 [==============================] - 0s 345us/step - loss: 0.6516 - acc: 0.5782\n",
            "Epoch 4/20\n",
            "147/147 [==============================] - 0s 339us/step - loss: 0.6087 - acc: 0.6259\n",
            "Epoch 5/20\n",
            "147/147 [==============================] - 0s 356us/step - loss: 0.6236 - acc: 0.5918\n",
            "Epoch 6/20\n",
            "147/147 [==============================] - 0s 382us/step - loss: 0.4950 - acc: 0.7891\n",
            "Epoch 7/20\n",
            "147/147 [==============================] - 0s 340us/step - loss: 0.5098 - acc: 0.7551\n",
            "Epoch 8/20\n",
            "147/147 [==============================] - 0s 331us/step - loss: 0.4694 - acc: 0.7755\n",
            "Epoch 9/20\n",
            "147/147 [==============================] - 0s 341us/step - loss: 0.4237 - acc: 0.8844\n",
            "Epoch 10/20\n",
            "147/147 [==============================] - 0s 360us/step - loss: 0.4038 - acc: 0.8776\n",
            "Epoch 11/20\n",
            "147/147 [==============================] - 0s 337us/step - loss: 0.3756 - acc: 0.8912\n",
            "Epoch 12/20\n",
            "147/147 [==============================] - 0s 306us/step - loss: 0.3577 - acc: 0.8571\n",
            "Epoch 13/20\n",
            "147/147 [==============================] - 0s 324us/step - loss: 0.3854 - acc: 0.8367\n",
            "Epoch 14/20\n",
            "147/147 [==============================] - 0s 323us/step - loss: 0.3558 - acc: 0.8571\n",
            "Epoch 15/20\n",
            "147/147 [==============================] - 0s 388us/step - loss: 0.3577 - acc: 0.8367\n",
            "Epoch 16/20\n",
            "147/147 [==============================] - 0s 328us/step - loss: 0.2565 - acc: 0.9660\n",
            "Epoch 17/20\n",
            "147/147 [==============================] - 0s 347us/step - loss: 0.3274 - acc: 0.8639\n",
            "Epoch 18/20\n",
            "147/147 [==============================] - 0s 325us/step - loss: 0.3107 - acc: 0.9116\n",
            "Epoch 19/20\n",
            "147/147 [==============================] - 0s 351us/step - loss: 0.3221 - acc: 0.8639\n",
            "Epoch 20/20\n",
            "147/147 [==============================] - 0s 342us/step - loss: 0.2328 - acc: 0.9660\n",
            "49/49 [==============================] - 0s 603us/step\n"
          ],
          "name": "stdout"
        },
        {
          "output_type": "execute_result",
          "data": {
            "text/plain": [
              "[0.5808429815331284, 0.67346939505363]"
            ]
          },
          "metadata": {
            "tags": []
          },
          "execution_count": 13
        }
      ]
    },
    {
      "cell_type": "code",
      "metadata": {
        "id": "2sTRtuLhE8lm",
        "colab_type": "code",
        "colab": {}
      },
      "source": [
        ""
      ],
      "execution_count": 0,
      "outputs": []
    }
  ]
}