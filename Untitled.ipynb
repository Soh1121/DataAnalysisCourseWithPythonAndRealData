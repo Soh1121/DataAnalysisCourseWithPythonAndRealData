{
 "cells": [
  {
   "cell_type": "code",
   "execution_count": 7,
   "metadata": {},
   "outputs": [],
   "source": [
    "import numpy as np\n",
    "import matplotlib.pyplot as plt\n",
    "import pandas as pd\n",
    "import random\n",
    "%matplotlib inline\n",
    "import seaborn as sns\n",
    "from sklearn.linear_model import LinearRegression\n",
    "from sklearn.model_selection import train_test_split\n",
    "\n",
    "import requests\n",
    "import json\n",
    "import re"
   ]
  },
  {
   "cell_type": "code",
   "execution_count": 8,
   "metadata": {},
   "outputs": [],
   "source": [
    "url_path = \"https://www.land.mlit.go.jp/webland/api/TradeListSearch?from=20171&to=20184&area=13\"\n",
    "request_result = requests.get(url_path)\n",
    "data_json = request_result.json()[\"data\"]"
   ]
  },
  {
   "cell_type": "code",
   "execution_count": 9,
   "metadata": {},
   "outputs": [
    {
     "name": "stdout",
     "output_type": "stream",
     "text": [
      "63052\n"
     ]
    }
   ],
   "source": [
    "print(len(data_json))"
   ]
  },
  {
   "cell_type": "code",
   "execution_count": 10,
   "metadata": {},
   "outputs": [
    {
     "name": "stdout",
     "output_type": "stream",
     "text": [
      "(63052, 27)\n"
     ]
    }
   ],
   "source": [
    "data_pd = pd.io.json.json_normalize(data_json)\n",
    "print(data_pd.shape)"
   ]
  },
  {
   "cell_type": "code",
   "execution_count": 11,
   "metadata": {},
   "outputs": [
    {
     "name": "stdout",
     "output_type": "stream",
     "text": [
      "        Type MunicipalityCode Prefecture Municipality DistrictName TradePrice  \\\n",
      "0   中古マンション等            13101        東京都         千代田区          飯田橋   24000000   \n",
      "1   中古マンション等            13101        東京都         千代田区          飯田橋   13000000   \n",
      "2  宅地(土地と建物)            13101        東京都         千代田区          飯田橋  250000000   \n",
      "3   中古マンション等            13101        東京都         千代田区          飯田橋   22000000   \n",
      "4   中古マンション等            13101        東京都         千代田区          飯田橋   69000000   \n",
      "5   中古マンション等            13101        東京都         千代田区          飯田橋   21000000   \n",
      "6   中古マンション等            13101        東京都         千代田区          飯田橋   81000000   \n",
      "7   中古マンション等            13101        東京都         千代田区          飯田橋   45000000   \n",
      "8   中古マンション等            13101        東京都         千代田区          飯田橋   66000000   \n",
      "9   中古マンション等            13101        東京都         千代田区          飯田橋   19000000   \n",
      "\n",
      "  FloorPlan Area BuildingYear Structure  ... Region LandShape Frontage  \\\n",
      "0      １ＬＤＫ   35        昭和60年       ＳＲＣ  ...    NaN       NaN      NaN   \n",
      "1        １Ｋ   20        昭和57年       ＳＲＣ  ...    NaN       NaN      NaN   \n",
      "2       NaN   80        昭和61年        ＲＣ  ...    商業地      ほぼ台形      6.8   \n",
      "3        １Ｋ   30        昭和60年       ＳＲＣ  ...    NaN       NaN      NaN   \n",
      "4      ２ＬＤＫ   70        昭和59年       ＳＲＣ  ...    NaN       NaN      NaN   \n",
      "5        １Ｋ   25        昭和60年       ＳＲＣ  ...    NaN       NaN      NaN   \n",
      "6      ３ＬＤＫ   70        平成19年        ＲＣ  ...    NaN       NaN      NaN   \n",
      "7      １ＬＤＫ   45        昭和57年       ＳＲＣ  ...    NaN       NaN      NaN   \n",
      "8      ２ＬＤＫ   55        昭和59年       ＳＲＣ  ...    NaN       NaN      NaN   \n",
      "9        １Ｋ   20        平成15年        ＲＣ  ...    NaN       NaN      NaN   \n",
      "\n",
      "  TotalFloorArea Direction Classification Breadth Remarks PricePerUnit  \\\n",
      "0            NaN       NaN            NaN     NaN     NaN          NaN   \n",
      "1            NaN       NaN            NaN     NaN     NaN          NaN   \n",
      "2            330        南西             区道     8.0     NaN          NaN   \n",
      "3            NaN       NaN            NaN     NaN     NaN          NaN   \n",
      "4            NaN       NaN            NaN     NaN     NaN          NaN   \n",
      "5            NaN       NaN            NaN     NaN     NaN          NaN   \n",
      "6            NaN       NaN            NaN     NaN     NaN          NaN   \n",
      "7            NaN       NaN            NaN     NaN     NaN          NaN   \n",
      "8            NaN       NaN            NaN     NaN     NaN          NaN   \n",
      "9            NaN       NaN            NaN     NaN     NaN          NaN   \n",
      "\n",
      "  UnitPrice  \n",
      "0       NaN  \n",
      "1       NaN  \n",
      "2       NaN  \n",
      "3       NaN  \n",
      "4       NaN  \n",
      "5       NaN  \n",
      "6       NaN  \n",
      "7       NaN  \n",
      "8       NaN  \n",
      "9       NaN  \n",
      "\n",
      "[10 rows x 27 columns]\n"
     ]
    }
   ],
   "source": [
    "print(data_pd.head(10))"
   ]
  },
  {
   "cell_type": "code",
   "execution_count": null,
   "metadata": {},
   "outputs": [],
   "source": []
  }
 ],
 "metadata": {
  "kernelspec": {
   "display_name": "Python 3",
   "language": "python",
   "name": "python3"
  },
  "language_info": {
   "codemirror_mode": {
    "name": "ipython",
    "version": 3
   },
   "file_extension": ".py",
   "mimetype": "text/x-python",
   "name": "python",
   "nbconvert_exporter": "python",
   "pygments_lexer": "ipython3",
   "version": "3.7.5"
  }
 },
 "nbformat": 4,
 "nbformat_minor": 2
}
