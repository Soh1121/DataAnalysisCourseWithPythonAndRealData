{
 "cells": [
  {
   "cell_type": "code",
   "execution_count": 7,
   "metadata": {},
   "outputs": [],
   "source": [
    "import numpy as np\n",
    "import matplotlib.pyplot as plt\n",
    "import pandas as pd\n",
    "import random\n",
    "%matplotlib inline\n",
    "import seaborn as sns\n",
    "from sklearn.linear_model import LinearRegression\n",
    "from sklearn.model_selection import train_test_split\n",
    "\n",
    "import requests\n",
    "import json\n",
    "import re"
   ]
  },
  {
   "cell_type": "code",
   "execution_count": 8,
   "metadata": {},
   "outputs": [],
   "source": [
    "url_path = \"https://www.land.mlit.go.jp/webland/api/TradeListSearch?from=20171&to=20184&area=13\"\n",
    "request_result = requests.get(url_path)\n",
    "data_json = request_result.json()[\"data\"]"
   ]
  },
  {
   "cell_type": "code",
   "execution_count": 9,
   "metadata": {},
   "outputs": [
    {
     "name": "stdout",
     "output_type": "stream",
     "text": [
      "63052\n"
     ]
    }
   ],
   "source": [
    "print(len(data_json))"
   ]
  },
  {
   "cell_type": "code",
   "execution_count": 10,
   "metadata": {},
   "outputs": [
    {
     "name": "stdout",
     "output_type": "stream",
     "text": [
      "(63052, 27)\n"
     ]
    }
   ],
   "source": [
    "data_pd = pd.io.json.json_normalize(data_json)\n",
    "print(data_pd.shape)"
   ]
  },
  {
   "cell_type": "code",
   "execution_count": 11,
   "metadata": {},
   "outputs": [
    {
     "name": "stdout",
     "output_type": "stream",
     "text": [
      "        Type MunicipalityCode Prefecture Municipality DistrictName TradePrice  \\\n",
      "0   中古マンション等            13101        東京都         千代田区          飯田橋   24000000   \n",
      "1   中古マンション等            13101        東京都         千代田区          飯田橋   13000000   \n",
      "2  宅地(土地と建物)            13101        東京都         千代田区          飯田橋  250000000   \n",
      "3   中古マンション等            13101        東京都         千代田区          飯田橋   22000000   \n",
      "4   中古マンション等            13101        東京都         千代田区          飯田橋   69000000   \n",
      "5   中古マンション等            13101        東京都         千代田区          飯田橋   21000000   \n",
      "6   中古マンション等            13101        東京都         千代田区          飯田橋   81000000   \n",
      "7   中古マンション等            13101        東京都         千代田区          飯田橋   45000000   \n",
      "8   中古マンション等            13101        東京都         千代田区          飯田橋   66000000   \n",
      "9   中古マンション等            13101        東京都         千代田区          飯田橋   19000000   \n",
      "\n",
      "  FloorPlan Area BuildingYear Structure  ... Region LandShape Frontage  \\\n",
      "0      １ＬＤＫ   35        昭和60年       ＳＲＣ  ...    NaN       NaN      NaN   \n",
      "1        １Ｋ   20        昭和57年       ＳＲＣ  ...    NaN       NaN      NaN   \n",
      "2       NaN   80        昭和61年        ＲＣ  ...    商業地      ほぼ台形      6.8   \n",
      "3        １Ｋ   30        昭和60年       ＳＲＣ  ...    NaN       NaN      NaN   \n",
      "4      ２ＬＤＫ   70        昭和59年       ＳＲＣ  ...    NaN       NaN      NaN   \n",
      "5        １Ｋ   25        昭和60年       ＳＲＣ  ...    NaN       NaN      NaN   \n",
      "6      ３ＬＤＫ   70        平成19年        ＲＣ  ...    NaN       NaN      NaN   \n",
      "7      １ＬＤＫ   45        昭和57年       ＳＲＣ  ...    NaN       NaN      NaN   \n",
      "8      ２ＬＤＫ   55        昭和59年       ＳＲＣ  ...    NaN       NaN      NaN   \n",
      "9        １Ｋ   20        平成15年        ＲＣ  ...    NaN       NaN      NaN   \n",
      "\n",
      "  TotalFloorArea Direction Classification Breadth Remarks PricePerUnit  \\\n",
      "0            NaN       NaN            NaN     NaN     NaN          NaN   \n",
      "1            NaN       NaN            NaN     NaN     NaN          NaN   \n",
      "2            330        南西             区道     8.0     NaN          NaN   \n",
      "3            NaN       NaN            NaN     NaN     NaN          NaN   \n",
      "4            NaN       NaN            NaN     NaN     NaN          NaN   \n",
      "5            NaN       NaN            NaN     NaN     NaN          NaN   \n",
      "6            NaN       NaN            NaN     NaN     NaN          NaN   \n",
      "7            NaN       NaN            NaN     NaN     NaN          NaN   \n",
      "8            NaN       NaN            NaN     NaN     NaN          NaN   \n",
      "9            NaN       NaN            NaN     NaN     NaN          NaN   \n",
      "\n",
      "  UnitPrice  \n",
      "0       NaN  \n",
      "1       NaN  \n",
      "2       NaN  \n",
      "3       NaN  \n",
      "4       NaN  \n",
      "5       NaN  \n",
      "6       NaN  \n",
      "7       NaN  \n",
      "8       NaN  \n",
      "9       NaN  \n",
      "\n",
      "[10 rows x 27 columns]\n"
     ]
    }
   ],
   "source": [
    "print(data_pd.head(10))"
   ]
  },
  {
   "cell_type": "code",
   "execution_count": 12,
   "metadata": {},
   "outputs": [
    {
     "name": "stdout",
     "output_type": "stream",
     "text": [
      "(63052, 30)\n"
     ]
    }
   ],
   "source": [
    "data_from_csv  = pd.read_csv(\"13_Tokyo_20171_20184.csv\", encoding='cp932')\n",
    "print(data_from_csv.shape)"
   ]
  },
  {
   "cell_type": "code",
   "execution_count": 13,
   "metadata": {},
   "outputs": [
    {
     "name": "stdout",
     "output_type": "stream",
     "text": [
      "No                     1\n",
      "種類              中古マンション等\n",
      "地域                   NaN\n",
      "市区町村コード            13101\n",
      "都道府県名                東京都\n",
      "市区町村名               千代田区\n",
      "地区名                  飯田橋\n",
      "最寄駅：名称               飯田橋\n",
      "最寄駅：距離（分）              3\n",
      "取引価格（総額）        24000000\n",
      "坪単価                  NaN\n",
      "間取り                 １ＬＤＫ\n",
      "面積（㎡）                 35\n",
      "取引価格（㎡単価）            NaN\n",
      "土地の形状                NaN\n",
      "間口                   NaN\n",
      "延床面積（㎡）              NaN\n",
      "建築年                昭和60年\n",
      "建物の構造                ＳＲＣ\n",
      "用途                    住宅\n",
      "今後の利用目的               住宅\n",
      "前面道路：方位              NaN\n",
      "前面道路：種類              NaN\n",
      "前面道路：幅員（ｍ）           NaN\n",
      "都市計画                商業地域\n",
      "建ぺい率（％）               80\n",
      "容積率（％）               700\n",
      "取引時点          2018年第４四半期\n",
      "改装                   未改装\n",
      "取引の事情等               NaN\n",
      "Name: 0, dtype: object\n"
     ]
    }
   ],
   "source": [
    "print(data_from_csv.iloc[0])"
   ]
  },
  {
   "cell_type": "code",
   "execution_count": 14,
   "metadata": {},
   "outputs": [
    {
     "name": "stdout",
     "output_type": "stream",
     "text": [
      "   No         種類   地域  市区町村コード 都道府県名 市区町村名  地区名 最寄駅：名称 最寄駅：距離（分）   取引価格（総額）  \\\n",
      "0   1   中古マンション等  NaN    13101   東京都  千代田区  飯田橋    飯田橋         3   24000000   \n",
      "1   2   中古マンション等  NaN    13101   東京都  千代田区  飯田橋    飯田橋         4   13000000   \n",
      "2   3  宅地(土地と建物)  商業地    13101   東京都  千代田区  飯田橋    飯田橋         3  250000000   \n",
      "3   4   中古マンション等  NaN    13101   東京都  千代田区  飯田橋    飯田橋         3   22000000   \n",
      "4   5   中古マンション等  NaN    13101   東京都  千代田区  飯田橋    飯田橋         1   69000000   \n",
      "5   6   中古マンション等  NaN    13101   東京都  千代田区  飯田橋    飯田橋         3   21000000   \n",
      "6   7   中古マンション等  NaN    13101   東京都  千代田区  飯田橋    飯田橋         4   81000000   \n",
      "7   8   中古マンション等  NaN    13101   東京都  千代田区  飯田橋    飯田橋         4   45000000   \n",
      "8   9   中古マンション等  NaN    13101   東京都  千代田区  飯田橋    飯田橋         1   66000000   \n",
      "9  10   中古マンション等  NaN    13101   東京都  千代田区  飯田橋    飯田橋         5   19000000   \n",
      "\n",
      "   ...  今後の利用目的 前面道路：方位 前面道路：種類  前面道路：幅員（ｍ）  都市計画 建ぺい率（％） 容積率（％）        取引時点  \\\n",
      "0  ...       住宅     NaN     NaN         NaN  商業地域    80.0  700.0  2018年第４四半期   \n",
      "1  ...       住宅     NaN     NaN         NaN  商業地域    80.0  700.0  2018年第３四半期   \n",
      "2  ...      事務所      南西      区道         8.0  商業地域    80.0  500.0  2018年第２四半期   \n",
      "3  ...       住宅     NaN     NaN         NaN  商業地域    80.0  700.0  2018年第２四半期   \n",
      "4  ...       住宅     NaN     NaN         NaN  商業地域    80.0  600.0  2018年第２四半期   \n",
      "5  ...      事務所     NaN     NaN         NaN  商業地域    80.0  700.0  2018年第２四半期   \n",
      "6  ...      その他     NaN     NaN         NaN  商業地域    80.0  500.0  2018年第２四半期   \n",
      "7  ...       住宅     NaN     NaN         NaN  商業地域    80.0  700.0  2018年第１四半期   \n",
      "8  ...       住宅     NaN     NaN         NaN  商業地域    80.0  600.0  2017年第４四半期   \n",
      "9  ...       住宅     NaN     NaN         NaN  商業地域    80.0  500.0  2017年第４四半期   \n",
      "\n",
      "    改装 取引の事情等  \n",
      "0  未改装    NaN  \n",
      "1  未改装    NaN  \n",
      "2  NaN    NaN  \n",
      "3  未改装    NaN  \n",
      "4  未改装    NaN  \n",
      "5  未改装    NaN  \n",
      "6  未改装    NaN  \n",
      "7  改装済    NaN  \n",
      "8  改装済    NaN  \n",
      "9  未改装    NaN  \n",
      "\n",
      "[10 rows x 30 columns]\n"
     ]
    }
   ],
   "source": [
    "print(data_from_csv.head(10))"
   ]
  },
  {
   "cell_type": "code",
   "execution_count": 15,
   "metadata": {},
   "outputs": [
    {
     "name": "stdout",
     "output_type": "stream",
     "text": [
      "['中古マンション等' '宅地(土地と建物)' '宅地(土地)' '林地' '農地']\n"
     ]
    }
   ],
   "source": [
    "print(data_from_csv[\"種類\"].unique())"
   ]
  },
  {
   "cell_type": "code",
   "execution_count": 16,
   "metadata": {},
   "outputs": [
    {
     "name": "stdout",
     "output_type": "stream",
     "text": [
      "(30956, 30)\n"
     ]
    }
   ],
   "source": [
    "data_used_apartment = data_from_csv.query('種類  == \"中古マンション等\"')\n",
    "print(data_used_apartment.shape)"
   ]
  },
  {
   "cell_type": "code",
   "execution_count": 17,
   "metadata": {},
   "outputs": [
    {
     "name": "stdout",
     "output_type": "stream",
     "text": [
      "No                0\n",
      "種類                0\n",
      "地域            30956\n",
      "市区町村コード           0\n",
      "都道府県名             0\n",
      "市区町村名             0\n",
      "地区名               0\n",
      "最寄駅：名称            1\n",
      "最寄駅：距離（分）        32\n",
      "取引価格（総額）          0\n",
      "坪単価           30956\n",
      "間取り            1263\n",
      "面積（㎡）             0\n",
      "取引価格（㎡単価）     30956\n",
      "土地の形状         30956\n",
      "間口            30956\n",
      "延床面積（㎡）       30956\n",
      "建築年             851\n",
      "建物の構造           599\n",
      "用途             8175\n",
      "今後の利用目的        1453\n",
      "前面道路：方位       30956\n",
      "前面道路：種類       30956\n",
      "前面道路：幅員（ｍ）    30956\n",
      "都市計画            344\n",
      "建ぺい率（％）         425\n",
      "容積率（％）          425\n",
      "取引時点              0\n",
      "改装             3721\n",
      "取引の事情等        30690\n",
      "dtype: int64\n"
     ]
    }
   ],
   "source": [
    "print(data_used_apartment.isnull().sum())"
   ]
  },
  {
   "cell_type": "code",
   "execution_count": 19,
   "metadata": {},
   "outputs": [
    {
     "name": "stdout",
     "output_type": "stream",
     "text": [
      "(30956, 9)\n",
      "(28442, 9)\n",
      "最寄駅：距離（分）           3\n",
      "間取り              １ＬＤＫ\n",
      "面積（㎡）              35\n",
      "建築年             昭和60年\n",
      "建物の構造             ＳＲＣ\n",
      "建ぺい率（％）            80\n",
      "容積率（％）            700\n",
      "市区町村名            千代田区\n",
      "取引価格（総額）     24000000\n",
      "Name: 0, dtype: object\n"
     ]
    }
   ],
   "source": [
    "columns_name_list = [\"最寄駅：距離（分）\", \"間取り\", \"面積（㎡）\", \"建築年\", \"建物の構造\", \"建ぺい率（％）\", \"容積率（％）\", \"市区町村名\", \"取引価格（総額）\"]\n",
    "\n",
    "data_selected = data_used_apartment[columns_name_list]\n",
    "print(data_selected.shape)\n",
    "\n",
    "data_selected_dropna  = data_selected.dropna(how = 'any')  # 1つでもNaNデータを含む行を削除\n",
    "print(data_selected_dropna.shape)\n",
    "print(data_selected_dropna.iloc[0])"
   ]
  },
  {
   "cell_type": "code",
   "execution_count": 20,
   "metadata": {},
   "outputs": [
    {
     "name": "stdout",
     "output_type": "stream",
     "text": [
      "['昭和60年' '昭和57年' '昭和59年' '平成19年' '平成15年' '平成24年' '平成11年' '平成16年' '平成9年'\n",
      " '昭和45年' '昭和51年' '平成13年' '昭和47年' '昭和52年' '平成21年' '平成25年' '平成18年' '平成26年'\n",
      " '平成17年' '平成12年' '平成14年' '昭和56年' '平成27年' '昭和54年' '昭和55年' '平成20年' '平成28年'\n",
      " '平成10年' '平成23年' '昭和53年' '昭和63年' '昭和50年' '平成4年' '平成29年' '昭和46年' '昭和44年'\n",
      " '昭和61年' '平成22年' '昭和58年' '平成8年' '平成3年' '昭和48年' '昭和49年' '平成6年' '平成7年'\n",
      " '平成5年' '平成30年' '昭和64年' '昭和39年' '昭和28年' '昭和34年' '平成2年' '昭和35年' '昭和41年'\n",
      " '昭和43年' '昭和62年' '昭和24年' '昭和40年' '昭和25年' '昭和42年' '昭和38年' '昭和37年' '昭和36年'\n",
      " '平成31年' '戦前' '昭和30年']\n"
     ]
    }
   ],
   "source": [
    "print(data_selected_dropna[\"建築年\"].unique())"
   ]
  },
  {
   "cell_type": "code",
   "execution_count": 21,
   "metadata": {},
   "outputs": [
    {
     "name": "stdout",
     "output_type": "stream",
     "text": [
      "  最寄駅：距離（分）   間取り 面積（㎡） 建物の構造  建ぺい率（％）  容積率（％） 市区町村名  取引価格（総額）  築年数\n",
      "0         3  １ＬＤＫ    35   ＳＲＣ     80.0   700.0  千代田区  24000000   34\n",
      "1         4    １Ｋ    20   ＳＲＣ     80.0   700.0  千代田区  13000000   37\n",
      "3         3    １Ｋ    30   ＳＲＣ     80.0   700.0  千代田区  22000000   34\n",
      "4         1  ２ＬＤＫ    70   ＳＲＣ     80.0   600.0  千代田区  69000000   35\n",
      "5         3    １Ｋ    25   ＳＲＣ     80.0   700.0  千代田区  21000000   34\n"
     ]
    }
   ],
   "source": [
    "data_selected_dropna = data_selected_dropna[data_selected_dropna[\"建築年\"].str.match('^平成|昭和')]\n",
    "wareki_to_seireki = {'昭和': 1926-1, '平成': 1989-1}\n",
    "\n",
    "building_year_list = data_selected_dropna[\"建築年\"]\n",
    "\n",
    "building_age_list = []\n",
    "for building_year in building_year_list:\n",
    "    # 昭和○年 → 昭和, ○に変換、 平成○年 → 平成, ○に変換\n",
    "    building_year_split = re.search(r'(.+?)([0-9]+|元)年', building_year)\n",
    "    # 西暦に変換\n",
    "    seireki = wareki_to_seireki[building_year_split.groups()[0]] + int(building_year_split.groups()[1])\n",
    "    \n",
    "    building_age = 2019 - seireki  # 築年数に変換\n",
    "    building_age_list.append(building_age)\n",
    "    \n",
    "data_selected_dropna[\"築年数\"] = building_age_list  # 新しく、築年数列を追加\n",
    "# もう使わないので、築年数列は削除\n",
    "data_added_building_age = data_selected_dropna.drop(\"建築年\", axis=1)\n",
    "print(data_added_building_age.head())"
   ]
  },
  {
   "cell_type": "code",
   "execution_count": 23,
   "metadata": {},
   "outputs": [
    {
     "name": "stdout",
     "output_type": "stream",
     "text": [
      "(28438, 87)\n",
      "最寄駅：距離（分）       3\n",
      "面積（㎡）          35\n",
      "築年数            34\n",
      "建ぺい率（％）        80\n",
      "容積率（％）        700\n",
      "             ... \n",
      "市区町村名_西東京市      0\n",
      "市区町村名_調布市       0\n",
      "市区町村名_豊島区       0\n",
      "市区町村名_足立区       0\n",
      "市区町村名_青梅市       0\n",
      "Name: 0, Length: 87, dtype: object\n"
     ]
    }
   ],
   "source": [
    "# ダミー変数化しないもののリスト\n",
    "columns_name_list = [\"最寄駅：距離（分）\", \"面積（㎡）\", \"築年数\", \"建ぺい率（％）\", \"容積率（％）\", \"取引価格（総額）\"]\n",
    "\n",
    "# ダミー変数リスト\n",
    "dummy_list = [\"間取り\", \"建物の構造\", \"市区町村名\"]\n",
    "\n",
    "# ダミー変数を追加\n",
    "data_added_dummies = pd.concat([data_added_building_age[columns_name_list], pd.get_dummies(data_added_building_age[dummy_list], drop_first=True)], axis=1)\n",
    "\n",
    "print(data_added_dummies.shape)\n",
    "print(data_added_dummies.iloc[0])"
   ]
  },
  {
   "cell_type": "code",
   "execution_count": 24,
   "metadata": {
    "scrolled": true
   },
   "outputs": [
    {
     "name": "stdout",
     "output_type": "stream",
     "text": [
      "最寄駅：距離（分）      object\n",
      "面積（㎡）          object\n",
      "築年数             int64\n",
      "建ぺい率（％）       float64\n",
      "容積率（％）        float64\n",
      "               ...   \n",
      "市区町村名_西東京市      uint8\n",
      "市区町村名_調布市       uint8\n",
      "市区町村名_豊島区       uint8\n",
      "市区町村名_足立区       uint8\n",
      "市区町村名_青梅市       uint8\n",
      "Length: 87, dtype: object\n"
     ]
    }
   ],
   "source": [
    "print(data_added_dummies.dtypes)"
   ]
  },
  {
   "cell_type": "code",
   "execution_count": 25,
   "metadata": {},
   "outputs": [],
   "source": [
    "data_added_dummies[\"面積（㎡）\"] = data_added_dummies[\"面積（㎡）\"].astype(float)\n",
    "data_added_dummies = data_added_dummies[~data_added_dummies['最寄駅：距離（分）'].str.contains('\\?')]\n",
    "data_added_dummies[\"最寄駅：距離（分）\"] = data_added_dummies[\"最寄駅：距離（分）\"].astype(float)"
   ]
  },
  {
   "cell_type": "code",
   "execution_count": 26,
   "metadata": {},
   "outputs": [
    {
     "data": {
      "image/png": "[encoded data removed]",
      "text/plain": [
       "<Figure size 432x288 with 1 Axes>"
      ]
     },
     "metadata": {
      "needs_background": "light"
     },
     "output_type": "display_data"
    }
   ],
   "source": [
    "plt.hist(data_added_dummies[\"取引価格（総額）\"])\n",
    "plt.show()"
   ]
  },
  {
   "cell_type": "code",
   "execution_count": 33,
   "metadata": {},
   "outputs": [
    {
     "name": "stdout",
     "output_type": "stream",
     "text": [
      "(25277, 87)\n"
     ]
    },
    {
     "data": {
      "image/png": "[encoded data removed]",
      "text/plain": [
       "<Figure size 432x288 with 1 Axes>"
      ]
     },
     "metadata": {
      "needs_background": "light"
     },
     "output_type": "display_data"
    }
   ],
   "source": [
    "tmp_data = data_added_dummies[data_added_dummies[\"取引価格（総額）\"] < 60000000]\n",
    "print(tmp_data.shape)\n",
    "plt.hist(tmp_data[\"取引価格（総額）\"])\n",
    "plt.show()"
   ]
  },
  {
   "cell_type": "code",
   "execution_count": 34,
   "metadata": {},
   "outputs": [
    {
     "name": "stdout",
     "output_type": "stream",
     "text": [
      "[[754551.89890555]]\n",
      "[-521859.56067614]\n"
     ]
    }
   ],
   "source": [
    "lr = LinearRegression()\n",
    "\n",
    "x_column_list = ['面積（㎡）']\n",
    "y_column_list = ['取引価格（総額）']\n",
    "\n",
    "x = data_added_dummies[x_column_list]\n",
    "y = data_added_dummies[y_column_list]\n",
    "\n",
    "lr.fit(x, y)\n",
    "\n",
    "print(lr.coef_)\n",
    "print(lr.intercept_)"
   ]
  },
  {
   "cell_type": "code",
   "execution_count": 35,
   "metadata": {},
   "outputs": [
    {
     "name": "stdout",
     "output_type": "stream",
     "text": [
      "   最寄駅：距離（分）  面積（㎡）  築年数  建ぺい率（％）  容積率（％）  間取り_スタジオ  間取り_１ＤＫ  間取り_１ＤＫ＋Ｓ  \\\n",
      "0        3.0   35.0   34     80.0   700.0         0        0          0   \n",
      "1        4.0   20.0   37     80.0   700.0         0        0          0   \n",
      "3        3.0   30.0   34     80.0   700.0         0        0          0   \n",
      "4        1.0   70.0   35     80.0   600.0         0        0          0   \n",
      "5        3.0   25.0   34     80.0   700.0         0        0          0   \n",
      "\n",
      "   間取り_１Ｋ  間取り_１Ｋ＋Ｓ  ...  市区町村名_練馬区  市区町村名_羽村市  市区町村名_荒川区  市区町村名_葛飾区  \\\n",
      "0       0         0  ...          0          0          0          0   \n",
      "1       1         0  ...          0          0          0          0   \n",
      "3       1         0  ...          0          0          0          0   \n",
      "4       0         0  ...          0          0          0          0   \n",
      "5       1         0  ...          0          0          0          0   \n",
      "\n",
      "   市区町村名_西多摩郡瑞穂町  市区町村名_西東京市  市区町村名_調布市  市区町村名_豊島区  市区町村名_足立区  市区町村名_青梅市  \n",
      "0              0           0          0          0          0          0  \n",
      "1              0           0          0          0          0          0  \n",
      "3              0           0          0          0          0          0  \n",
      "4              0           0          0          0          0          0  \n",
      "5              0           0          0          0          0          0  \n",
      "\n",
      "[5 rows x 86 columns]\n",
      "0    24000000\n",
      "1    13000000\n",
      "3    22000000\n",
      "4    69000000\n",
      "5    21000000\n",
      "Name: 取引価格（総額）, dtype: int64\n"
     ]
    }
   ],
   "source": [
    "x = data_added_dummies.drop(\"取引価格（総額）\", axis=1)\n",
    "y = data_added_dummies[\"取引価格（総額）\"]\n",
    "\n",
    "print(x.head())\n",
    "print(y.head())"
   ]
  },
  {
   "cell_type": "code",
   "execution_count": 36,
   "metadata": {},
   "outputs": [
    {
     "name": "stdout",
     "output_type": "stream",
     "text": [
      "[-5.31579763e+05  1.15754549e+06 -5.14761985e+05 -5.35400512e+04\n",
      "  7.65861394e+03  1.02958680e+07  5.31634585e+06 -5.43323277e+06\n",
      "  9.15501842e+06 -1.64409373e+07  1.21727882e+06 -3.23714615e+06\n",
      "  1.09537341e+07  9.20672365e+05 -1.27593653e+06  8.00008196e+06\n",
      " -4.26764027e+05 -2.67857384e+06 -1.08216037e+07 -4.44177297e+06\n",
      " -1.90423560e+07 -4.75760889e+05 -1.15847814e+07  5.09187497e+06\n",
      " -2.06207908e+07 -3.90001950e+06 -1.66011249e+07 -2.23183338e+06\n",
      " -2.65609511e+07 -4.81319165e+07 -5.21011394e+07  2.85650031e+07\n",
      "  1.81869121e+07  2.44571230e+07  1.69701228e+07  5.99478589e+07\n",
      "  1.76228799e+07  3.46226987e+07  4.11663226e+07  4.36018270e+07\n",
      "  4.07519325e+07  1.43971749e+07  3.35678459e+07  5.37957694e+07\n",
      "  3.65561032e+07  4.31702021e+07  2.84760190e+07  2.43893593e+07\n",
      "  3.57091058e+07  1.80609489e+07  3.67889079e+07  1.94231820e+07\n",
      "  3.17586854e+07  2.40836306e+07  4.24398790e+07  4.37920285e+07\n",
      "  1.92977651e+07  1.41117558e+07  4.04270843e+07  2.21508001e+07\n",
      "  1.46135268e+07  1.78641156e+07  3.19265974e+07  1.76210298e+07\n",
      "  4.36413242e+07  2.71953060e+07  3.35264223e+07  1.92241663e+07\n",
      "  5.34617497e+07  6.20622952e+07  2.92374441e+07  1.81430641e+07\n",
      "  5.17876512e+07  1.86674507e+07  1.38192495e+07  2.69162260e+07\n",
      "  3.39058496e+07  1.54641131e+07  3.14054473e+07  2.82322294e+07\n",
      "  2.84074277e+07  2.31713097e+07  2.87971398e+07  4.08935488e+07\n",
      "  2.43615815e+07  1.43646041e+07]\n",
      "-58597967.224134944\n"
     ]
    }
   ],
   "source": [
    "lr_multi = LinearRegression()\n",
    "lr_multi.fit(x, y)\n",
    "\n",
    "print(lr_multi.coef_)\n",
    "print(lr_multi.intercept_)"
   ]
  },
  {
   "cell_type": "code",
   "execution_count": 38,
   "metadata": {},
   "outputs": [
    {
     "name": "stdout",
     "output_type": "stream",
     "text": [
      "(19786, 86)\n",
      "(8481, 86)\n",
      "(19786,)\n",
      "(8481,)\n"
     ]
    }
   ],
   "source": [
    "X = data_added_dummies.drop(\"取引価格（総額）\", axis=1)\n",
    "y = data_added_dummies[\"取引価格（総額）\"]\n",
    "\n",
    "X_train, X_test, y_train, y_test = train_test_split(X, y, test_size=0.3)\n",
    "print(X_train.shape)\n",
    "print(X_test.shape)\n",
    "print(y_train.shape)\n",
    "print(y_test.shape)"
   ]
  },
  {
   "cell_type": "code",
   "execution_count": 39,
   "metadata": {},
   "outputs": [
    {
     "name": "stdout",
     "output_type": "stream",
     "text": [
      "[-4.77505822e+05  1.12186880e+06 -5.22935861e+05 -6.53183691e+04\n",
      "  8.13219414e+03  1.49846420e+07  9.06673109e+06 -1.56267480e+06\n",
      "  1.24453700e+07  3.42726707e-07  5.45563166e+06  1.53784264e+06\n",
      "  1.51160987e+07  5.38860801e+06  2.29593799e+06  1.20348298e+07\n",
      "  3.78608933e+06  2.06689397e+06 -5.78878509e+06  3.19522820e+05\n",
      "  7.58096576e-07  2.50018004e+06 -6.38556079e+06  1.34159222e+07\n",
      " -1.29401151e+07 -1.03886189e+06 -1.00896479e+07  2.56086408e+06\n",
      " -2.08848380e+07 -3.89292836e-07 -3.64615026e+07  2.95398393e+07\n",
      "  1.80394036e+07  2.33485269e+07  1.69548385e+07  6.59130459e+07\n",
      "  1.77793843e+07  3.45734240e+07  4.16976006e+07  4.48980833e+07\n",
      "  4.16625526e+07  1.47402395e+07  3.41474122e+07  5.56928150e+07\n",
      "  3.67710391e+07  4.37158284e+07  2.85959567e+07  2.65670780e+07\n",
      "  3.62867831e+07  1.84961914e+07  3.71404000e+07  2.03611408e+07\n",
      "  3.13708644e+07  2.38643539e+07  4.29981644e+07  4.39472994e+07\n",
      "  1.85573038e+07  1.40066512e+07  4.12245098e+07  2.19213837e+07\n",
      "  1.44733426e+07  1.83421711e+07  3.26102329e+07  1.29320335e+07\n",
      "  4.34770737e+07  2.73813503e+07  3.38235564e+07  2.00634589e+07\n",
      "  5.50980259e+07  6.25022111e+07  2.91939159e+07  1.93337842e+07\n",
      "  4.93672553e+07  1.88674613e+07  1.55449767e+07  2.80860540e+07\n",
      "  3.42152795e+07  1.57503649e+07  3.11944417e+07  2.87418188e+07\n",
      "  3.06638168e+07  2.38400821e+07  2.91212813e+07  4.15903711e+07\n",
      "  2.44010349e+07  1.46777126e+07]\n",
      "-61210438.6725515\n"
     ]
    }
   ],
   "source": [
    "lr_multi2 = LinearRegression()\n",
    "\n",
    "lr_multi2.fit(X_train, y_train)\n",
    "print(lr_multi2.coef_)\n",
    "print(lr_multi2.intercept_)"
   ]
  },
  {
   "cell_type": "code",
   "execution_count": 41,
   "metadata": {},
   "outputs": [
    {
     "name": "stdout",
     "output_type": "stream",
     "text": [
      "[10403757.46208404 26140161.45102923 22215976.35444556 ...\n",
      "  5103550.96848637 24706883.32518969 17677763.03643684]\n",
      "5570    -5.962425e+05\n",
      "41540    2.140161e+06\n",
      "27187   -2.784024e+06\n",
      "1437     5.977961e+06\n",
      "48924   -1.186257e+07\n",
      "             ...     \n",
      "6731    -1.136731e+07\n",
      "22039   -6.018186e+06\n",
      "6033    -3.096449e+06\n",
      "4325    -2.931167e+05\n",
      "54031    1.047776e+07\n",
      "Name: 取引価格（総額）, Length: 8481, dtype: float64\n"
     ]
    }
   ],
   "source": [
    "y_pred = lr_multi2.predict(X_test)\n",
    "print(y_pred)\n",
    "\n",
    "print(y_pred - y_test)"
   ]
  },
  {
   "cell_type": "code",
   "execution_count": null,
   "metadata": {},
   "outputs": [],
   "source": []
  }
 ],
 "metadata": {
  "kernelspec": {
   "display_name": "Python 3",
   "language": "python",
   "name": "python3"
  },
  "language_info": {
   "codemirror_mode": {
    "name": "ipython",
    "version": 3
   },
   "file_extension": ".py",
   "mimetype": "text/x-python",
   "name": "python",
   "nbconvert_exporter": "python",
   "pygments_lexer": "ipython3",
   "version": "3.7.5"
  }
 },
 "nbformat": 4,
 "nbformat_minor": 2
}
