{
  "nbformat": 4,
  "nbformat_minor": 0,
  "metadata": {
    "colab": {
      "name": "Untitled.ipynb",
      "provenance": []
    },
    "kernelspec": {
      "name": "python3",
      "display_name": "Python 3"
    },
    "accelerator": "GPU"
  },
  "cells": [
    {
      "cell_type": "code",
      "metadata": {
        "id": "M-ola3K7-XYP",
        "colab_type": "code",
        "colab": {}
      },
      "source": [
        "import pandas as pd\n",
        "import numpy as np\n",
        "\n",
        "from sklearn.metrics.pairwise import cosine_similarity"
      ],
      "execution_count": 0,
      "outputs": []
    },
    {
      "cell_type": "code",
      "metadata": {
        "id": "Jxloi9aS-m6N",
        "colab_type": "code",
        "colab": {
          "base_uri": "https://localhost:8080/",
          "height": 119
        },
        "outputId": "5f2f8534-c145-4ebe-8629-7461bd89cb4c"
      },
      "source": [
        "cols_name = ['user_id', 'item_id', 'rating', 'timestamp']\n",
        "data_movie = pd.read_csv('u.data', names=cols_name, sep='\\t')\n",
        "print(data_movie.head())"
      ],
      "execution_count": 3,
      "outputs": [
        {
          "output_type": "stream",
          "text": [
            "   user_id  item_id  rating  timestamp\n",
            "0      196      242       3  881250949\n",
            "1      186      302       3  891717742\n",
            "2       22      377       1  878887116\n",
            "3      244       51       2  880606923\n",
            "4      166      346       1  886397596\n"
          ],
          "name": "stdout"
        }
      ]
    },
    {
      "cell_type": "code",
      "metadata": {
        "id": "wxk9LLiM_HnW",
        "colab_type": "code",
        "colab": {
          "base_uri": "https://localhost:8080/",
          "height": 173
        },
        "outputId": "33836615-129d-425d-a759-a7b0fc71ca51"
      },
      "source": [
        "movie_rating = data_movie.pivot(\n",
        "    index='user_id', columns='item_id', values='rating'\n",
        ").fillna(0).as_matrix()\n",
        "print(movie_rating[0:5])\n",
        "print(movie_rating.shape)"
      ],
      "execution_count": 5,
      "outputs": [
        {
          "output_type": "stream",
          "text": [
            "[[5. 3. 4. ... 0. 0. 0.]\n",
            " [4. 0. 0. ... 0. 0. 0.]\n",
            " [0. 0. 0. ... 0. 0. 0.]\n",
            " [0. 0. 0. ... 0. 0. 0.]\n",
            " [4. 3. 0. ... 0. 0. 0.]]\n",
            "(943, 1682)\n"
          ],
          "name": "stdout"
        },
        {
          "output_type": "stream",
          "text": [
            "/usr/local/lib/python3.6/dist-packages/ipykernel_launcher.py:3: FutureWarning: Method .as_matrix will be removed in a future version. Use .values instead.\n",
            "  This is separate from the ipykernel package so we can avoid doing imports until\n"
          ],
          "name": "stderr"
        }
      ]
    },
    {
      "cell_type": "code",
      "metadata": {
        "id": "b0eH4TTj_nlL",
        "colab_type": "code",
        "colab": {
          "base_uri": "https://localhost:8080/",
          "height": 119
        },
        "outputId": "407fb22e-4c04-4b35-bf99-2ea872d6af3c"
      },
      "source": [
        "cos_sim = cosine_similarity(movie_rating, movie_rating)\n",
        "print(cos_sim[:5])\n",
        "print(cos_sim.shape)"
      ],
      "execution_count": 6,
      "outputs": [
        {
          "output_type": "stream",
          "text": [
            "[[1.         0.16693098 0.04745954 ... 0.14861694 0.17950788 0.39817474]\n",
            " [0.16693098 1.         0.11059132 ... 0.16148478 0.17226781 0.10579788]\n",
            " [0.04745954 0.11059132 1.         ... 0.10124256 0.13341615 0.02655587]\n",
            " [0.06435782 0.17812119 0.34415072 ... 0.15204088 0.17008611 0.05875214]\n",
            " [0.37847518 0.07297896 0.02124453 ... 0.13959513 0.15249741 0.31394084]]\n",
            "(943, 943)\n"
          ],
          "name": "stdout"
        }
      ]
    },
    {
      "cell_type": "code",
      "metadata": {
        "id": "pS8jjrIy_1Xt",
        "colab_type": "code",
        "colab": {
          "base_uri": "https://localhost:8080/",
          "height": 34
        },
        "outputId": "bf9efa70-43a5-4eac-ef3d-9e865702ae29"
      },
      "source": [
        "# ユーザー1との類似度\n",
        "cos_sim_for_user_1 = cos_sim[0]\n",
        "# ユーザー1と類似度の高いユーザー10人のインデックスを抽出\n",
        "similar_user = np.argsort(cos_sim_for_user_1)[-11:-1]\n",
        "print(similar_user)"
      ],
      "execution_count": 7,
      "outputs": [
        {
          "output_type": "stream",
          "text": [
            "[275 302 428 737 456 434  91 267 863 915]\n"
          ],
          "name": "stdout"
        }
      ]
    },
    {
      "cell_type": "code",
      "metadata": {
        "id": "HKFI-CnTCiEG",
        "colab_type": "code",
        "colab": {
          "base_uri": "https://localhost:8080/",
          "height": 51
        },
        "outputId": "4431bac5-2540-40cd-a661-fd3830d88c1f"
      },
      "source": [
        "# 類似度一覧\n",
        "print(cos_sim_for_user_1[similar_user])"
      ],
      "execution_count": 8,
      "outputs": [
        {
          "output_type": "stream",
          "text": [
            "[0.52452252 0.52571773 0.52594993 0.52703107 0.53847598 0.53866453\n",
            " 0.54053356 0.54207705 0.54754826 0.56906573]\n"
          ],
          "name": "stdout"
        }
      ]
    },
    {
      "cell_type": "code",
      "metadata": {
        "id": "DXsCGznpC5dF",
        "colab_type": "code",
        "colab": {
          "base_uri": "https://localhost:8080/",
          "height": 136
        },
        "outputId": "f7adec45-466c-4831-bb42-f3524d3043ae"
      },
      "source": [
        "# 類似度の高いユーザーの映画評価値\n",
        "movie_rating_of_similar_user = movie_rating[similar_user]\n",
        "print(movie_rating_of_similar_user)"
      ],
      "execution_count": 10,
      "outputs": [
        {
          "output_type": "stream",
          "text": [
            "[[5. 4. 3. ... 0. 0. 0.]\n",
            " [5. 3. 3. ... 0. 0. 0.]\n",
            " [3. 3. 2. ... 0. 0. 0.]\n",
            " ...\n",
            " [3. 2. 1. ... 0. 0. 0.]\n",
            " [5. 4. 0. ... 0. 0. 0.]\n",
            " [4. 3. 3. ... 0. 0. 3.]]\n"
          ],
          "name": "stdout"
        }
      ]
    },
    {
      "cell_type": "code",
      "metadata": {
        "id": "mk_OjsuoDI4X",
        "colab_type": "code",
        "colab": {
          "base_uri": "https://localhost:8080/",
          "height": 136
        },
        "outputId": "8fc7363c-4cfe-4f53-ed5d-842f3e912319"
      },
      "source": [
        "# 重み付けされた評価値を計算\n",
        "weighted_movie_rating = movie_rating_of_similar_user * cos_sim_for_user_1[similar_user].reshape(-1, 1)\n",
        "print(weighted_movie_rating)"
      ],
      "execution_count": 11,
      "outputs": [
        {
          "output_type": "stream",
          "text": [
            "[[2.62261261 2.09809009 1.57356757 ... 0.         0.         0.        ]\n",
            " [2.62858867 1.5771532  1.5771532  ... 0.         0.         0.        ]\n",
            " [1.57784978 1.57784978 1.05189985 ... 0.         0.         0.        ]\n",
            " ...\n",
            " [1.62623114 1.0841541  0.54207705 ... 0.         0.         0.        ]\n",
            " [2.73774131 2.19019305 0.         ... 0.         0.         0.        ]\n",
            " [2.27626293 1.70719719 1.70719719 ... 0.         0.         1.70719719]]\n"
          ],
          "name": "stdout"
        }
      ]
    },
    {
      "cell_type": "code",
      "metadata": {
        "id": "qJ6Tta3WDaNR",
        "colab_type": "code",
        "colab": {
          "base_uri": "https://localhost:8080/",
          "height": 34
        },
        "outputId": "c277651a-5b5b-4f29-d68c-bdcd88b7ec27"
      },
      "source": [
        "# 各映画のレコメンド値を計算\n",
        "mean_weighted_movie_rating = weighted_movie_rating.mean(axis=0)\n",
        "print(mean_weighted_movie_rating)"
      ],
      "execution_count": 12,
      "outputs": [
        {
          "output_type": "stream",
          "text": [
            "[2.31138026 1.55919894 0.80678885 ... 0.         0.         0.17071972]\n"
          ],
          "name": "stdout"
        }
      ]
    },
    {
      "cell_type": "code",
      "metadata": {
        "id": "x4G97oWnEEud",
        "colab_type": "code",
        "colab": {
          "base_uri": "https://localhost:8080/",
          "height": 359
        },
        "outputId": "7f444e97-44c2-4481-bd5b-cf807c146d2a"
      },
      "source": [
        "# ユーザー1の評価と加重平均スコアを列とするデータフレームを作成\n",
        "recommend_values = pd.DataFrame({'user_1_score':movie_rating[0], 'recommend_value':mean_weighted_movie_rating})\n",
        "\n",
        "# 未評価のうちスコアの高い上位10件を抽出\n",
        "recommend_values[recommend_values['user_1_score'] == 0].sort_values('recommend_value', ascending=False).head(10)"
      ],
      "execution_count": 13,
      "outputs": [
        {
          "output_type": "execute_result",
          "data": {
            "text/html": [
              "<div>\n",
              "<style scoped>\n",
              "    .dataframe tbody tr th:only-of-type {\n",
              "        vertical-align: middle;\n",
              "    }\n",
              "\n",
              "    .dataframe tbody tr th {\n",
              "        vertical-align: top;\n",
              "    }\n",
              "\n",
              "    .dataframe thead th {\n",
              "        text-align: right;\n",
              "    }\n",
              "</style>\n",
              "<table border=\"1\" class=\"dataframe\">\n",
              "  <thead>\n",
              "    <tr style=\"text-align: right;\">\n",
              "      <th></th>\n",
              "      <th>user_1_score</th>\n",
              "      <th>recommend_value</th>\n",
              "    </tr>\n",
              "  </thead>\n",
              "  <tbody>\n",
              "    <tr>\n",
              "      <th>317</th>\n",
              "      <td>0.0</td>\n",
              "      <td>2.199688</td>\n",
              "    </tr>\n",
              "    <tr>\n",
              "      <th>473</th>\n",
              "      <td>0.0</td>\n",
              "      <td>2.100667</td>\n",
              "    </tr>\n",
              "    <tr>\n",
              "      <th>654</th>\n",
              "      <td>0.0</td>\n",
              "      <td>1.988316</td>\n",
              "    </tr>\n",
              "    <tr>\n",
              "      <th>422</th>\n",
              "      <td>0.0</td>\n",
              "      <td>1.985781</td>\n",
              "    </tr>\n",
              "    <tr>\n",
              "      <th>402</th>\n",
              "      <td>0.0</td>\n",
              "      <td>1.978832</td>\n",
              "    </tr>\n",
              "    <tr>\n",
              "      <th>356</th>\n",
              "      <td>0.0</td>\n",
              "      <td>1.974216</td>\n",
              "    </tr>\n",
              "    <tr>\n",
              "      <th>432</th>\n",
              "      <td>0.0</td>\n",
              "      <td>1.938533</td>\n",
              "    </tr>\n",
              "    <tr>\n",
              "      <th>384</th>\n",
              "      <td>0.0</td>\n",
              "      <td>1.875676</td>\n",
              "    </tr>\n",
              "    <tr>\n",
              "      <th>567</th>\n",
              "      <td>0.0</td>\n",
              "      <td>1.830542</td>\n",
              "    </tr>\n",
              "    <tr>\n",
              "      <th>469</th>\n",
              "      <td>0.0</td>\n",
              "      <td>1.770764</td>\n",
              "    </tr>\n",
              "  </tbody>\n",
              "</table>\n",
              "</div>"
            ],
            "text/plain": [
              "     user_1_score  recommend_value\n",
              "317           0.0         2.199688\n",
              "473           0.0         2.100667\n",
              "654           0.0         1.988316\n",
              "422           0.0         1.985781\n",
              "402           0.0         1.978832\n",
              "356           0.0         1.974216\n",
              "432           0.0         1.938533\n",
              "384           0.0         1.875676\n",
              "567           0.0         1.830542\n",
              "469           0.0         1.770764"
            ]
          },
          "metadata": {
            "tags": []
          },
          "execution_count": 13
        }
      ]
    },
    {
      "cell_type": "code",
      "metadata": {
        "id": "wLeE5v6CE5WG",
        "colab_type": "code",
        "colab": {}
      },
      "source": [
        ""
      ],
      "execution_count": 0,
      "outputs": []
    }
  ]
}