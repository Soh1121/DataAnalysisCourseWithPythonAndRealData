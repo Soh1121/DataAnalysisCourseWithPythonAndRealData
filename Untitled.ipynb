{
 "cells": [
  {
   "cell_type": "code",
   "execution_count": 1,
   "metadata": {},
   "outputs": [],
   "source": [
    "import numpy as np\n",
    "import pandas as pd\n",
    "import matplotlib.pyplot as plt\n",
    "%matplotlib inline\n",
    "import seaborn as sns\n",
    "from sklearn.linear_model import LinearRegression, Ridge, Lasso\n",
    "from sklearn.datasets import load_boston\n",
    "from sklearn.metrics import mean_absolute_error\n",
    "from sklearn.model_selection import train_test_split"
   ]
  },
  {
   "cell_type": "code",
   "execution_count": 2,
   "metadata": {},
   "outputs": [
    {
     "name": "stdout",
     "output_type": "stream",
     "text": [
      "[[-1.08011358e-01  4.64204584e-02  2.05586264e-02  2.68673382e+00\n",
      "  -1.77666112e+01  3.80986521e+00  6.92224640e-04 -1.47556685e+00\n",
      "   3.06049479e-01 -1.23345939e-02 -9.52747232e-01  9.31168327e-03\n",
      "  -5.24758378e-01]]\n",
      "[36.45948839]\n"
     ]
    }
   ],
   "source": [
    "boston = load_boston()\n",
    "data_boston = pd.DataFrame(boston.data, columns=boston.feature_names)\n",
    "data_boston['PRICE'] = boston.target\n",
    "           \n",
    "lr_multi = LinearRegression()\n",
    "\n",
    "x_column_list_for_multi = ['CRIM', 'ZN', 'INDUS', 'CHAS', 'NOX', 'RM', 'AGE', 'DIS', 'RAD', 'TAX', 'PTRATIO', 'B', 'LSTAT']\n",
    "y_column_list_for_multi = ['PRICE']\n",
    "\n",
    "lr_multi.fit(data_boston[x_column_list_for_multi], data_boston[y_column_list_for_multi])\n",
    "\n",
    "print(lr_multi.coef_)\n",
    "print(lr_multi.intercept_)"
   ]
  },
  {
   "cell_type": "code",
   "execution_count": 7,
   "metadata": {},
   "outputs": [
    {
     "name": "stdout",
     "output_type": "stream",
     "text": [
      "[[-1.07701204e-01  4.70016795e-02 -2.98818105e-02  2.70602033e+00\n",
      "  -1.81983080e+01  3.82473373e+00 -1.68864644e-02 -1.65866057e+00\n",
      "   2.90633195e-01 -1.26239339e-02 -9.38922050e-01  9.31514949e-03\n",
      "  -4.23365245e-01]]\n",
      "[37.73410466]\n",
      "        PRICE\n",
      "171  4.387537\n",
      "87   3.948650\n",
      "473 -4.771905\n",
      "347  1.880963\n",
      "251  0.058942\n",
      "..        ...\n",
      "267 -9.038326\n",
      "80   0.445640\n",
      "305  2.797473\n",
      "303 -0.200050\n",
      "467 -2.198942\n",
      "\n",
      "[152 rows x 1 columns]\n",
      "3.3663335721361207\n"
     ]
    }
   ],
   "source": [
    "X_train, X_test, y_train, y_test = train_test_split(data_boston[x_column_list_for_multi], data_boston[y_column_list_for_multi], test_size=0.3)\n",
    "lr_multi2 = LinearRegression()\n",
    "\n",
    "lr_multi2.fit(X_train, y_train)\n",
    "print(lr_multi2.coef_)\n",
    "print(lr_multi2.intercept_)\n",
    "\n",
    "y_pred = lr_multi2.predict(X_test)\n",
    "\n",
    "# 残差\n",
    "print(y_pred - y_test)\n",
    "\n",
    "# MAE\n",
    "print(mean_absolute_error(y_pred, y_test))"
   ]
  },
  {
   "cell_type": "code",
   "execution_count": 17,
   "metadata": {},
   "outputs": [
    {
     "name": "stdout",
     "output_type": "stream",
     "text": [
      "[-1.01711306e-01  4.31735959e-02 -3.64752333e-02  2.69003031e+00\n",
      " -1.74070886e+01  3.85859302e+00 -1.56205422e-02 -1.57622409e+00\n",
      "  2.58387178e-01 -1.11048516e-02 -9.30669857e-01  9.10146919e-03\n",
      " -4.24417413e-01]\n",
      "[36.39696819]\n"
     ]
    }
   ],
   "source": [
    "lasso = Lasso(alpha=0.001, normalize=True)\n",
    "lasso.fit(X_train, y_train)\n",
    "print(lasso.coef_)\n",
    "print(lasso.intercept_)"
   ]
  },
  {
   "cell_type": "code",
   "execution_count": 18,
   "metadata": {},
   "outputs": [
    {
     "name": "stdout",
     "output_type": "stream",
     "text": [
      "        PRICE\n",
      "171  4.418253\n",
      "87   3.863515\n",
      "473 -4.871853\n",
      "347  1.951316\n",
      "251  0.129102\n",
      "..        ...\n",
      "267 -9.197320\n",
      "80   0.397752\n",
      "305  2.438699\n",
      "303 -0.334394\n",
      "467 -2.323282\n",
      "\n",
      "[152 rows x 1 columns]\n",
      "3.344867230720637\n"
     ]
    }
   ],
   "source": [
    "y_pred_lasso = lasso.predict(X_test)\n",
    "\n",
    "# 残差\n",
    "print(y_pred_lasso.reshape(-1, 1) - y_test)\n",
    "\n",
    "# MAE\n",
    "print(mean_absolute_error(y_pred_lasso, y_test))"
   ]
  },
  {
   "cell_type": "code",
   "execution_count": 19,
   "metadata": {},
   "outputs": [
    {
     "name": "stdout",
     "output_type": "stream",
     "text": [
      "[[-1.02940649e-01  4.30487221e-02 -4.63885086e-02  2.76548423e+00\n",
      "  -1.69759719e+01  3.86759922e+00 -1.70042724e-02 -1.57190554e+00\n",
      "   2.53584548e-01 -1.07546144e-02 -9.23025348e-01  9.23515387e-03\n",
      "  -4.17921896e-01]]\n",
      "[35.92187799]\n"
     ]
    }
   ],
   "source": [
    "ridge = Ridge(alpha=0.01, normalize=True)\n",
    "ridge.fit(X_train, y_train)\n",
    "print(ridge.coef_)\n",
    "print(ridge.intercept_)"
   ]
  },
  {
   "cell_type": "code",
   "execution_count": 21,
   "metadata": {},
   "outputs": [
    {
     "name": "stdout",
     "output_type": "stream",
     "text": [
      "        PRICE\n",
      "171  4.289865\n",
      "87   3.851285\n",
      "473 -4.888878\n",
      "347  2.000946\n",
      "251  0.158028\n",
      "..        ...\n",
      "267 -9.207048\n",
      "80   0.404392\n",
      "305  2.430425\n",
      "303 -0.336997\n",
      "467 -2.342008\n",
      "\n",
      "[152 rows x 1 columns]\n",
      "3.350227427345092\n"
     ]
    }
   ],
   "source": [
    "y_pred_ridge = ridge.predict(X_test)\n",
    "\n",
    "# 残差\n",
    "print(y_pred_ridge.reshape(-1, 1) - y_test)\n",
    "\n",
    "# MAE\n",
    "print(mean_absolute_error(y_pred_ridge, y_test))"
   ]
  },
  {
   "cell_type": "code",
   "execution_count": null,
   "metadata": {},
   "outputs": [],
   "source": []
  }
 ],
 "metadata": {
  "kernelspec": {
   "display_name": "Python 3",
   "language": "python",
   "name": "python3"
  },
  "language_info": {
   "codemirror_mode": {
    "name": "ipython",
    "version": 3
   },
   "file_extension": ".py",
   "mimetype": "text/x-python",
   "name": "python",
   "nbconvert_exporter": "python",
   "pygments_lexer": "ipython3",
   "version": "3.7.5"
  }
 },
 "nbformat": 4,
 "nbformat_minor": 2
}
