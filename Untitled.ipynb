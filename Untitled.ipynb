{
 "cells": [
  {
   "cell_type": "code",
   "execution_count": 9,
   "metadata": {},
   "outputs": [],
   "source": [
    "import numpy as np\n",
    "import json\n",
    "import requests\n",
    "from requests_oauthlib import OAuth1Session\n",
    "import re\n",
    "\n",
    "# 取得したkey情報\n",
    "import configure\n",
    "\n",
    "twitter = OAuth1Session(configure.consumer_key, configure.consumer_key_secret, configure.access_token, configure.access_token_secret)"
   ]
  },
  {
   "cell_type": "code",
   "execution_count": 10,
   "metadata": {},
   "outputs": [],
   "source": [
    "# タイムライン取得用のURL\n",
    "url = \"https://api.twitter.com/1.1/statuses/user_timeline.json\"\n",
    "\n",
    "# URLや特殊文字など削除\n",
    "def normalize_text(text):\n",
    "    text = re.sub(r'https?://[\\w/:%#\\$&\\?\\(\\)~\\.=\\+\\-…]+', \"\", text)\n",
    "    text = re.sub('RT', \"\", text)\n",
    "    text = re.sub('お気に入り', \"\", text)\n",
    "    text = re.sub('まとめ', \"\", text)\n",
    "    text = re.sub(r'[!-~]', \"\", text)\n",
    "    text = re.sub(r'[︰-＠]', \"\", text)\n",
    "    text = re.sub('\\u3000',\"\", text)\n",
    "    text = re.sub('\\t', \"\", text)\n",
    "    text = re.sub('\\n', \"\", text)\n",
    "    text = text.strip()\n",
    "    return text\n",
    "\n",
    "# パラメータの定義\n",
    "params = {\n",
    "    'screen_name': 'Np_Ur_',\n",
    "    'exclude_replies': True,\n",
    "    'include_rts': False,\n",
    "    'count': 200\n",
    "}\n",
    "\n",
    "f_out = open('np_ur_.tsv', 'w')\n",
    "\n",
    "for _ in range(10):\n",
    "    res = twitter.get(url, params = params)\n",
    "    \n",
    "    if res.status_code == 200:\n",
    "        \n",
    "        timeline = json.loads(res.text)\n",
    "        if len(timeline) == 0:\n",
    "            break\n",
    "        \n",
    "        # 各ツイートの本文を表示\n",
    "        for i in range(len(timeline)):\n",
    "            f_out.write(normalize_text(timeline[i]['text']) + '\\t' + \"0\" + '\\n')\n",
    "            \n",
    "        # 一番最後のツイートIDをパラメータmax_idに追加\n",
    "        params['max_id'] = timeline[len(timeline) - 1]['id'] - 1\n",
    "\n",
    "f_out.close()"
   ]
  },
  {
   "cell_type": "code",
   "execution_count": 11,
   "metadata": {},
   "outputs": [],
   "source": [
    "# パラメータの定義\n",
    "params = {\n",
    "    'screen_name': 'lucky_CandR',\n",
    "    'exclude_replies': True,\n",
    "    'include_rts': False,\n",
    "    'count': 200\n",
    "}\n",
    "\n",
    "f_out = open('lucky_CandR.tsv', 'w')\n",
    "\n",
    "for _ in range(10):\n",
    "    res = twitter.get(url, params = params)\n",
    "    \n",
    "    if res.status_code == 200:\n",
    "        \n",
    "        timeline = json.loads(res.text)\n",
    "        if len(timeline) == 0:\n",
    "            break\n",
    "        \n",
    "        # 各ツイートの本文を表示\n",
    "        for i in range(len(timeline)):\n",
    "            f_out.write(normalize_text(timeline[i]['text']) + '\\t' + \"0\" + '\\n')\n",
    "            \n",
    "        # 一番最後のツイートIDをパラメータmax_idに追加\n",
    "        params['max_id'] = timeline[len(timeline) - 1]['id'] - 1\n",
    "\n",
    "f_out.close()"
   ]
  },
  {
   "cell_type": "code",
   "execution_count": 14,
   "metadata": {},
   "outputs": [],
   "source": [
    "# データ統合\n",
    "import pandas as pd\n",
    "\n",
    "tsv_files = ['np_ur_.tsv', 'lucky_CandR.tsv']\n",
    "list = []\n",
    "\n",
    "for file in tsv_files:\n",
    "    list.append(pd.read_csv(file, delimiter='\\t', header=None))\n",
    "df = pd.concat(list, sort=False)\n",
    "\n",
    "df.to_csv('tweets.tsv', sep='\\t', index=False)"
   ]
  },
  {
   "cell_type": "code",
   "execution_count": null,
   "metadata": {},
   "outputs": [],
   "source": []
  }
 ],
 "metadata": {
  "kernelspec": {
   "display_name": "Python 3",
   "language": "python",
   "name": "python3"
  },
  "language_info": {
   "codemirror_mode": {
    "name": "ipython",
    "version": 3
   },
   "file_extension": ".py",
   "mimetype": "text/x-python",
   "name": "python",
   "nbconvert_exporter": "python",
   "pygments_lexer": "ipython3",
   "version": "3.7.5"
  }
 },
 "nbformat": 4,
 "nbformat_minor": 2
}
