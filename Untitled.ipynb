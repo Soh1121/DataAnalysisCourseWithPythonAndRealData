{
  "nbformat": 4,
  "nbformat_minor": 0,
  "metadata": {
    "colab": {
      "name": "Untitled.ipynb",
      "provenance": []
    },
    "kernelspec": {
      "name": "python3",
      "display_name": "Python 3"
    }
  },
  "cells": [
    {
      "cell_type": "code",
      "metadata": {
        "id": "KrKD7iid6YvX",
        "colab_type": "code",
        "colab": {
          "base_uri": "https://localhost:8080/",
          "height": 80
        },
        "outputId": "1fb55f84-fd4c-470f-ae6d-8c8eda3ce9e7"
      },
      "source": [
        "from keras.datasets import mnist\n",
        "from keras.utils import to_categorical\n",
        "\n",
        "from keras.layers import Dense\n",
        "from keras.models import Sequential\n",
        "from keras.models import load_model\n",
        "\n",
        "import matplotlib.pyplot as plt\n",
        "from PIL import Image\n",
        "import os\n",
        "import numpy as np\n",
        "from sklearn.model_selection import train_test_split"
      ],
      "execution_count": 1,
      "outputs": [
        {
          "output_type": "stream",
          "text": [
            "Using TensorFlow backend.\n"
          ],
          "name": "stderr"
        },
        {
          "output_type": "display_data",
          "data": {
            "text/html": [
              "<p style=\"color: red;\">\n",
              "The default version of TensorFlow in Colab will soon switch to TensorFlow 2.x.<br>\n",
              "We recommend you <a href=\"https://www.tensorflow.org/guide/migrate\" target=\"_blank\">upgrade</a> now \n",
              "or ensure your notebook will continue to use TensorFlow 1.x via the <code>%tensorflow_version 1.x</code> magic:\n",
              "<a href=\"https://colab.research.google.com/notebooks/tensorflow_version.ipynb\" target=\"_blank\">more info</a>.</p>\n"
            ],
            "text/plain": [
              "<IPython.core.display.HTML object>"
            ]
          },
          "metadata": {
            "tags": []
          }
        }
      ]
    },
    {
      "cell_type": "code",
      "metadata": {
        "id": "dLXbR3YA6xX-",
        "colab_type": "code",
        "colab": {
          "base_uri": "https://localhost:8080/",
          "height": 34
        },
        "outputId": "8900dadd-96b5-4fe6-9cfd-804ea83acb65"
      },
      "source": [
        "from google.colab import drive\n",
        "drive.mount('/content/drive')"
      ],
      "execution_count": 6,
      "outputs": [
        {
          "output_type": "stream",
          "text": [
            "Mounted at /content/drive\n"
          ],
          "name": "stdout"
        }
      ]
    },
    {
      "cell_type": "code",
      "metadata": {
        "id": "K0IMbMWU6-9e",
        "colab_type": "code",
        "colab": {
          "base_uri": "https://localhost:8080/",
          "height": 54
        },
        "outputId": "f4f3e10b-61a0-493c-cc20-52a7b9a92617"
      },
      "source": [
        "folder_path = \"/content/drive/My Drive/Colab Notebooks/data/templeAndShrine/\"\n",
        "file_list = os.listdir(folder_path)\n",
        "print(file_list)"
      ],
      "execution_count": 9,
      "outputs": [
        {
          "output_type": "stream",
          "text": [
            "['shrine0.jpg', 'shrine2.jpg', 'shrine1.jpg', 'shrine3.jpg', 'shrine6.jpg', 'shrine5.jpg', 'shrine4.jpg', 'shrine9.jpg', 'shrine8.jpg', 'shrine7.jpg', 'shrine10.jpg', 'shrine11.jpg', 'shrine19.jpg', 'shrine12.jpg', 'shrine13.jpg', 'shrine14.jpg', 'shrine21.jpg', 'shrine20.jpg', 'shrine17.jpg', 'shrine18.jpg', 'shrine16.jpg', 'shrine15.jpg', 'shrine24.jpg', 'shrine22.jpg', 'shrine28.jpg', 'shrine25.jpg', 'shrine27.jpg', 'shrine23.jpg', 'shrine29.jpg', 'shrine31.jpg', 'shrine32.jpg', 'shrine35.jpg', 'shrine34.jpg', 'shrine26.jpg', 'shrine36.jpg', 'shrine37.jpg', 'shrine38.jpg', 'shrine41.jpg', 'shrine43.jpg', 'shrine40.jpg', 'shrine39.jpg', 'shrine42.jpg', 'shrine44.jpg', 'shrine46.jpg', 'shrine30.jpg', 'shrine47.jpg', 'shrine48.jpg', 'shrine49.jpg', 'shrine50.jpg', 'shrine52.jpg', 'shrine53.jpg', 'shrine54.jpg', 'shrine51.jpg', 'shrine56.jpg', 'shrine55.jpg', 'shrine33.jpg', 'shrine58.jpg', 'shrine59.jpg', 'shrine57.jpg', 'shrine62.jpg', 'shrine61.jpg', 'shrine63.jpg', 'shrine68.jpg', 'shrine65.jpg', 'shrine66.jpg', 'shrine64.jpg', 'shrine45.jpg', 'shrine69.jpg', 'shrine73.jpg', 'shrine71.jpg', 'shrine72.jpg', 'shrine81.jpg', 'shrine80.jpg', 'shrine75.jpg', 'shrine74.jpg', 'shrine79.jpg', 'shrine76.jpg', 'shrine60.jpg', 'shrine82.jpg', 'shrine84.jpg', 'shrine85.jpg', 'shrine88.jpg', 'shrine86.jpg', 'shrine83.jpg', 'shrine89.jpg', 'shrine90.jpg', 'shrine91.jpg', 'shrine87.jpg', 'shrine67.jpg', 'shrine92.jpg', 'shrine96.jpg', 'shrine97.jpg', 'shrine93.jpg', 'shrine95.jpg', 'shrine70.jpg', 'shrine98.jpg', 'temple2.jpg', 'shrine99.jpg', 'temple3.jpg', 'temple0.jpg', 'temple5.jpg', 'shrine77.jpg', 'temple4.jpg', 'temple8.jpg', 'temple7.jpg', 'temple10.jpg', 'temple19.jpg', 'temple17.jpg', 'temple9.jpg', 'temple15.jpg', 'temple12.jpg', 'shrine78.jpg', 'temple20.jpg', 'temple22.jpg', 'temple23.jpg', 'temple25.jpg', 'temple21.jpg', 'temple24.jpg', 'temple27.jpg', 'temple28.jpg', 'temple26.jpg', 'temple29.jpg', 'shrine94.jpg', 'temple30.jpg', 'temple31.jpg', 'temple33.jpg', 'temple34.jpg', 'temple1.jpg', 'temple35.jpg', 'temple37.jpg', 'temple38.jpg', 'temple39.jpg', 'temple40.jpg', 'temple36.jpg', 'temple6.jpg', 'temple41.jpg', 'temple47.jpg', 'temple43.jpg', 'temple46.jpg', 'temple44.jpg', 'temple42.jpg', 'temple45.jpg', 'temple51.jpg', 'temple49.jpg', 'temple52.jpg', 'temple11.jpg', 'temple53.jpg', 'temple54.jpg', 'temple55.jpg', 'temple13.jpg', 'temple58.jpg', 'temple56.jpg', 'temple60.jpg', 'temple57.jpg', 'temple63.jpg', 'temple62.jpg', 'temple61.jpg', 'temple14.jpg', 'temple64.jpg', 'temple68.jpg', 'temple66.jpg', 'temple65.jpg', 'temple67.jpg', 'temple74.jpg', 'temple70.jpg', 'temple71.jpg', 'temple73.jpg', 'temple69.jpg', 'temple16.jpg', 'temple75.jpg', 'temple76.jpg', 'temple78.jpg', 'temple80.jpg', 'temple81.jpg', 'temple82.jpg', 'temple79.jpg', 'temple18.jpg', 'temple84.jpg', 'temple83.jpg', 'temple85.jpg', 'temple86.jpg', 'temple90.jpg', 'temple88.jpg', 'temple89.jpg', 'temple91.jpg', 'temple93.jpg', 'temple92.jpg', 'temple94.jpg', 'temple32.jpg', 'temple96.jpg', 'temple95.jpg', 'temple97.jpg', 'temple98.jpg', 'temple48.jpg', 'temple50.jpg', 'temple59.jpg', 'temple72.jpg', 'temple77.jpg', 'temple87.jpg', 'temple99.jpg']\n"
          ],
          "name": "stdout"
        }
      ]
    },
    {
      "cell_type": "code",
      "metadata": {
        "id": "ViqQkeYD7dNX",
        "colab_type": "code",
        "colab": {
          "base_uri": "https://localhost:8080/",
          "height": 153
        },
        "outputId": "f463650f-70f7-4ca2-a680-9fca072a99bd"
      },
      "source": [
        "X = []\n",
        "Y = []\n",
        "image_size = 30\n",
        "\n",
        "for file in file_list:\n",
        "  try:\n",
        "    image = Image.open(folder_path + file)\n",
        "  except:\n",
        "    print('error', file)\n",
        "    continue\n",
        "  \n",
        "  image = image.convert(\"RGB\")\n",
        "  image = image.resize((image_size, image_size))\n",
        "  data = np.asarray(image)\n",
        "  X.append(data)\n",
        "  if 'temple' in file:\n",
        "    Y.append(0)\n",
        "  else:\n",
        "    Y.append(1)\n",
        "\n",
        "X = np.array(X)\n",
        "Y = np.array(Y)\n",
        "print(X.shape)\n",
        "print(Y.shape)"
      ],
      "execution_count": 10,
      "outputs": [
        {
          "output_type": "stream",
          "text": [
            "error shrine50.jpg\n"
          ],
          "name": "stdout"
        },
        {
          "output_type": "stream",
          "text": [
            "/usr/local/lib/python3.6/dist-packages/PIL/Image.py:914: UserWarning: Palette images with Transparency   expressed in bytes should be converted to RGBA images\n",
            "  'to RGBA images')\n"
          ],
          "name": "stderr"
        },
        {
          "output_type": "stream",
          "text": [
            "error temple7.jpg\n",
            "error temple75.jpg\n",
            "error temple86.jpg\n",
            "(196, 30, 30, 3)\n",
            "(196,)\n"
          ],
          "name": "stdout"
        }
      ]
    },
    {
      "cell_type": "code",
      "metadata": {
        "id": "X_feWEuL8h6Q",
        "colab_type": "code",
        "colab": {}
      },
      "source": [
        ""
      ],
      "execution_count": 0,
      "outputs": []
    }
  ]
}