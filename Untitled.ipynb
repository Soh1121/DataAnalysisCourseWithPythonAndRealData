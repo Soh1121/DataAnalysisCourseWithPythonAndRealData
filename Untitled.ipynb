{
 "cells": [
  {
   "cell_type": "code",
   "execution_count": 28,
   "metadata": {},
   "outputs": [],
   "source": [
    "import numpy as np\n",
    "import pandas as pd\n",
    "import matplotlib.pyplot as plt\n",
    "%matplotlib inline\n",
    "import seaborn as sns\n",
    "from sklearn.linear_model import LinearRegression\n",
    "from sklearn.datasets import load_boston"
   ]
  },
  {
   "cell_type": "code",
   "execution_count": 29,
   "metadata": {
    "scrolled": true
   },
   "outputs": [
    {
     "name": "stdout",
     "output_type": "stream",
     "text": [
      ".. _boston_dataset:\n",
      "\n",
      "Boston house prices dataset\n",
      "---------------------------\n",
      "\n",
      "**Data Set Characteristics:**  \n",
      "\n",
      "    :Number of Instances: 506 \n",
      "\n",
      "    :Number of Attributes: 13 numeric/categorical predictive. Median Value (attribute 14) is usually the target.\n",
      "\n",
      "    :Attribute Information (in order):\n",
      "        - CRIM     per capita crime rate by town\n",
      "        - ZN       proportion of residential land zoned for lots over 25,000 sq.ft.\n",
      "        - INDUS    proportion of non-retail business acres per town\n",
      "        - CHAS     Charles River dummy variable (= 1 if tract bounds river; 0 otherwise)\n",
      "        - NOX      nitric oxides concentration (parts per 10 million)\n",
      "        - RM       average number of rooms per dwelling\n",
      "        - AGE      proportion of owner-occupied units built prior to 1940\n",
      "        - DIS      weighted distances to five Boston employment centres\n",
      "        - RAD      index of accessibility to radial highways\n",
      "        - TAX      full-value property-tax rate per $10,000\n",
      "        - PTRATIO  pupil-teacher ratio by town\n",
      "        - B        1000(Bk - 0.63)^2 where Bk is the proportion of blacks by town\n",
      "        - LSTAT    % lower status of the population\n",
      "        - MEDV     Median value of owner-occupied homes in $1000's\n",
      "\n",
      "    :Missing Attribute Values: None\n",
      "\n",
      "    :Creator: Harrison, D. and Rubinfeld, D.L.\n",
      "\n",
      "This is a copy of UCI ML housing dataset.\n",
      "https://archive.ics.uci.edu/ml/machine-learning-databases/housing/\n",
      "\n",
      "\n",
      "This dataset was taken from the StatLib library which is maintained at Carnegie Mellon University.\n",
      "\n",
      "The Boston house-price data of Harrison, D. and Rubinfeld, D.L. 'Hedonic\n",
      "prices and the demand for clean air', J. Environ. Economics & Management,\n",
      "vol.5, 81-102, 1978.   Used in Belsley, Kuh & Welsch, 'Regression diagnostics\n",
      "...', Wiley, 1980.   N.B. Various transformations are used in the table on\n",
      "pages 244-261 of the latter.\n",
      "\n",
      "The Boston house-price data has been used in many machine learning papers that address regression\n",
      "problems.   \n",
      "     \n",
      ".. topic:: References\n",
      "\n",
      "   - Belsley, Kuh & Welsch, 'Regression diagnostics: Identifying Influential Data and Sources of Collinearity', Wiley, 1980. 244-261.\n",
      "   - Quinlan,R. (1993). Combining Instance-Based and Model-Based Learning. In Proceedings on the Tenth International Conference of Machine Learning, 236-243, University of Massachusetts, Amherst. Morgan Kaufmann.\n",
      "\n"
     ]
    }
   ],
   "source": [
    "boston = load_boston()\n",
    "print(boston.DESCR)"
   ]
  },
  {
   "cell_type": "code",
   "execution_count": null,
   "metadata": {},
   "outputs": [],
   "source": []
  },
  {
   "cell_type": "code",
   "execution_count": 31,
   "metadata": {},
   "outputs": [],
   "source": [
    "data_boston = pd.DataFrame(boston.data, columns=boston.feature_names)\n",
    "data_boston['PRICE'] = boston.target"
   ]
  },
  {
   "cell_type": "code",
   "execution_count": 32,
   "metadata": {},
   "outputs": [
    {
     "name": "stdout",
     "output_type": "stream",
     "text": [
      "      CRIM    ZN  INDUS  CHAS    NOX     RM   AGE     DIS  RAD    TAX  \\\n",
      "0  0.00632  18.0   2.31   0.0  0.538  6.575  65.2  4.0900  1.0  296.0   \n",
      "1  0.02731   0.0   7.07   0.0  0.469  6.421  78.9  4.9671  2.0  242.0   \n",
      "2  0.02729   0.0   7.07   0.0  0.469  7.185  61.1  4.9671  2.0  242.0   \n",
      "3  0.03237   0.0   2.18   0.0  0.458  6.998  45.8  6.0622  3.0  222.0   \n",
      "4  0.06905   0.0   2.18   0.0  0.458  7.147  54.2  6.0622  3.0  222.0   \n",
      "\n",
      "   PTRATIO       B  LSTAT  PRICE  \n",
      "0     15.3  396.90   4.98   24.0  \n",
      "1     17.8  396.90   9.14   21.6  \n",
      "2     17.8  392.83   4.03   34.7  \n",
      "3     18.7  394.63   2.94   33.4  \n",
      "4     18.7  396.90   5.33   36.2  \n"
     ]
    }
   ],
   "source": [
    "print(data_boston.head())"
   ]
  },
  {
   "cell_type": "code",
   "execution_count": 33,
   "metadata": {
    "scrolled": true
   },
   "outputs": [
    {
     "name": "stdout",
     "output_type": "stream",
     "text": [
      "        CRIM   ZN  INDUS  CHAS    NOX     RM   AGE     DIS  RAD    TAX  \\\n",
      "501  0.06263  0.0  11.93   0.0  0.573  6.593  69.1  2.4786  1.0  273.0   \n",
      "502  0.04527  0.0  11.93   0.0  0.573  6.120  76.7  2.2875  1.0  273.0   \n",
      "503  0.06076  0.0  11.93   0.0  0.573  6.976  91.0  2.1675  1.0  273.0   \n",
      "504  0.10959  0.0  11.93   0.0  0.573  6.794  89.3  2.3889  1.0  273.0   \n",
      "505  0.04741  0.0  11.93   0.0  0.573  6.030  80.8  2.5050  1.0  273.0   \n",
      "\n",
      "     PTRATIO       B  LSTAT  PRICE  \n",
      "501     21.0  391.99   9.67   22.4  \n",
      "502     21.0  396.90   9.08   20.6  \n",
      "503     21.0  396.90   5.64   23.9  \n",
      "504     21.0  393.45   6.48   22.0  \n",
      "505     21.0  396.90   7.88   11.9  \n"
     ]
    }
   ],
   "source": [
    "print(data_boston.tail())"
   ]
  },
  {
   "cell_type": "code",
   "execution_count": 34,
   "metadata": {},
   "outputs": [
    {
     "data": {
      "text/plain": [
       "<seaborn.axisgrid.JointGrid at 0x1298aab90>"
      ]
     },
     "execution_count": 34,
     "metadata": {},
     "output_type": "execute_result"
    },
    {
     "data": {
      "image/png": "[encoded data removed]",
      "text/plain": [
       "<Figure size 432x432 with 3 Axes>"
      ]
     },
     "metadata": {
      "needs_background": "light"
     },
     "output_type": "display_data"
    }
   ],
   "source": [
    "sns.jointplot('RM', 'PRICE', data=data_boston)"
   ]
  },
  {
   "cell_type": "code",
   "execution_count": 36,
   "metadata": {},
   "outputs": [
    {
     "data": {
      "text/plain": [
       "<seaborn.axisgrid.PairGrid at 0x127af7a50>"
      ]
     },
     "execution_count": 36,
     "metadata": {},
     "output_type": "execute_result"
    },
    {
     "data": {
      "image/png": "[encoded data removed]",
      "text/plain": [
       "<Figure size 540x540 with 12 Axes>"
      ]
     },
     "metadata": {
      "needs_background": "light"
     },
     "output_type": "display_data"
    }
   ],
   "source": [
    "sns.pairplot(data_boston, vars=[\"PRICE\", \"RM\", \"DIS\"])"
   ]
  },
  {
   "cell_type": "code",
   "execution_count": 38,
   "metadata": {},
   "outputs": [
    {
     "data": {
      "text/plain": [
       "LinearRegression(copy_X=True, fit_intercept=True, n_jobs=None, normalize=False)"
      ]
     },
     "execution_count": 38,
     "metadata": {},
     "output_type": "execute_result"
    }
   ],
   "source": [
    "lr = LinearRegression()\n",
    "\n",
    "x_column_list = ['RM']\n",
    "y_column_list = ['PRICE']\n",
    "\n",
    "data_boston_x = data_boston[x_column_list]\n",
    "data_boston_y = data_boston[y_column_list]\n",
    "\n",
    "lr.fit(data_boston_x, data_boston_y)"
   ]
  },
  {
   "cell_type": "code",
   "execution_count": 39,
   "metadata": {},
   "outputs": [
    {
     "name": "stdout",
     "output_type": "stream",
     "text": [
      "[[9.10210898]]\n",
      "[-34.67062078]\n"
     ]
    }
   ],
   "source": [
    "print(lr.coef_)\n",
    "print(lr.intercept_)"
   ]
  },
  {
   "cell_type": "code",
   "execution_count": 41,
   "metadata": {},
   "outputs": [
    {
     "data": {
      "text/plain": [
       "LinearRegression(copy_X=True, fit_intercept=True, n_jobs=None, normalize=False)"
      ]
     },
     "execution_count": 41,
     "metadata": {},
     "output_type": "execute_result"
    }
   ],
   "source": [
    "lr_multi = LinearRegression()\n",
    "\n",
    "x_column_list_for_multi = ['CRIM', 'ZN', 'INDUS', 'CHAS', 'NOX', 'RM', 'AGE', 'DIS', 'RAD', 'TAX', 'PTRATIO', 'B', 'LSTAT']\n",
    "y_column_list_for_multi = ['PRICE']\n",
    "\n",
    "data_boston_x = data_boston[x_column_list_for_multi]\n",
    "data_boston_y = data_boston[y_column_list_for_multi]\n",
    "\n",
    "lr_multi.fit(data_boston_x, data_boston_y)"
   ]
  },
  {
   "cell_type": "code",
   "execution_count": 43,
   "metadata": {
    "scrolled": true
   },
   "outputs": [
    {
     "name": "stdout",
     "output_type": "stream",
     "text": [
      "[[-1.08011358e-01  4.64204584e-02  2.05586264e-02  2.68673382e+00\n",
      "  -1.77666112e+01  3.80986521e+00  6.92224640e-04 -1.47556685e+00\n",
      "   3.06049479e-01 -1.23345939e-02 -9.52747232e-01  9.31168327e-03\n",
      "  -5.24758378e-01]]\n",
      "[36.45948839]\n"
     ]
    }
   ],
   "source": [
    "print(lr_multi.coef_)\n",
    "print(lr_multi.intercept_)"
   ]
  },
  {
   "cell_type": "code",
   "execution_count": 45,
   "metadata": {},
   "outputs": [],
   "source": [
    "from sklearn.model_selection import train_test_split\n",
    "\n",
    "X_train, X_test, y_train, y_test = train_test_split(data_boston_x, data_boston_y, test_size=0.3, random_state=123)"
   ]
  },
  {
   "cell_type": "code",
   "execution_count": 46,
   "metadata": {},
   "outputs": [
    {
     "name": "stdout",
     "output_type": "stream",
     "text": [
      "(354, 13)\n",
      "(152, 13)\n",
      "(354, 1)\n",
      "(152, 1)\n"
     ]
    }
   ],
   "source": [
    "print(X_train.shape)\n",
    "print(X_test.shape)\n",
    "print(y_train.shape)\n",
    "print(y_test.shape)"
   ]
  },
  {
   "cell_type": "code",
   "execution_count": 47,
   "metadata": {},
   "outputs": [
    {
     "name": "stdout",
     "output_type": "stream",
     "text": [
      "[[-1.00993843e-01  3.99582498e-02  7.53760168e-02  2.64563972e-01\n",
      "  -1.43409174e+01  4.83318293e+00 -7.44105854e-03 -1.32674018e+00\n",
      "   2.73495492e-01 -1.30440007e-02 -9.56625955e-01  6.42468925e-03\n",
      "  -4.86570773e-01]]\n",
      "[28.98127039]\n"
     ]
    }
   ],
   "source": [
    "lr_multi2 = LinearRegression()\n",
    "\n",
    "lr_multi2.fit(X_train, y_train)\n",
    "print(lr_multi2.coef_)\n",
    "print(lr_multi2.intercept_)"
   ]
  },
  {
   "cell_type": "code",
   "execution_count": 48,
   "metadata": {},
   "outputs": [],
   "source": [
    "y_pred = lr_multi2.predict(X_test)"
   ]
  },
  {
   "cell_type": "code",
   "execution_count": 49,
   "metadata": {},
   "outputs": [
    {
     "name": "stdout",
     "output_type": "stream",
     "text": [
      "[[15.4757088 ]\n",
      " [27.85786595]\n",
      " [39.71821366]\n",
      " [17.94591734]\n",
      " [30.19441873]\n",
      " [37.51057831]\n",
      " [25.20492485]\n",
      " [11.29301795]\n",
      " [13.93325033]\n",
      " [32.10798674]\n",
      " [28.51346127]\n",
      " [19.10242965]\n",
      " [14.16909335]\n",
      " [30.59883198]\n",
      " [16.91765089]\n",
      " [21.57521646]\n",
      " [20.56956106]\n",
      " [38.0388848 ]\n",
      " [18.28489886]\n",
      " [15.44455502]\n",
      " [13.942728  ]\n",
      " [22.89202676]\n",
      " [33.08289616]\n",
      " [38.85747118]\n",
      " [29.91747968]\n",
      " [22.34030137]\n",
      " [17.88075723]\n",
      " [20.6598468 ]\n",
      " [23.37690089]\n",
      " [20.51319684]\n",
      " [25.78620928]\n",
      " [33.83339852]\n",
      " [15.33132641]\n",
      " [21.79161378]\n",
      " [24.14376798]\n",
      " [35.2106862 ]\n",
      " [29.20302521]\n",
      " [18.566505  ]\n",
      " [13.9622867 ]\n",
      " [38.63492008]\n",
      " [31.18122326]\n",
      " [19.10959362]\n",
      " [19.1273964 ]\n",
      " [39.74779582]\n",
      " [ 8.86534866]\n",
      " [27.28051165]\n",
      " [19.04476095]\n",
      " [25.44873252]\n",
      " [15.50076478]\n",
      " [26.17581245]\n",
      " [33.69571146]\n",
      " [24.40124874]\n",
      " [19.39414746]\n",
      " [12.55330545]\n",
      " [24.50462883]\n",
      " [18.21889479]\n",
      " [10.63052092]\n",
      " [ 2.28680811]\n",
      " [31.72266364]\n",
      " [13.46355579]\n",
      " [20.09462113]\n",
      " [22.38725561]\n",
      " [19.98251601]\n",
      " [17.86587813]\n",
      " [24.34154548]\n",
      " [26.93269765]\n",
      " [25.82034717]\n",
      " [22.2255162 ]\n",
      " [24.67832008]\n",
      " [30.3663481 ]\n",
      " [20.3191293 ]\n",
      " [28.49908288]\n",
      " [15.23867856]\n",
      " [24.73337515]\n",
      " [20.10878704]\n",
      " [18.07200705]\n",
      " [18.41320553]\n",
      " [16.91768359]\n",
      " [28.79668288]\n",
      " [-0.72764932]\n",
      " [32.77235423]\n",
      " [12.77182194]\n",
      " [25.01611175]\n",
      " [20.22882563]\n",
      " [14.1490244 ]\n",
      " [22.51784692]\n",
      " [18.35783384]\n",
      " [24.55026023]\n",
      " [19.53341548]\n",
      " [32.04610432]\n",
      " [16.09965501]\n",
      " [34.70398223]\n",
      " [23.28578903]\n",
      " [25.53343033]\n",
      " [30.95210281]\n",
      " [28.95220518]\n",
      " [19.02010607]\n",
      " [31.35828173]\n",
      " [26.99246425]\n",
      " [36.53001853]\n",
      " [16.6427046 ]\n",
      " [16.771446  ]\n",
      " [42.70557651]\n",
      " [17.78401758]\n",
      " [21.81493146]\n",
      " [28.54938925]\n",
      " [14.6574944 ]\n",
      " [17.8560892 ]\n",
      " [14.87432738]\n",
      " [20.8621114 ]\n",
      " [24.87422157]\n",
      " [20.55017983]\n",
      " [14.27906223]\n",
      " [20.78463901]\n",
      " [20.00188302]\n",
      " [27.61959443]\n",
      " [29.92816998]\n",
      " [13.25454015]\n",
      " [22.09977257]\n",
      " [19.44854557]\n",
      " [17.38140304]\n",
      " [37.07793354]\n",
      " [20.22729663]\n",
      " [10.39330738]\n",
      " [12.09698538]\n",
      " [22.76369432]\n",
      " [24.18804203]\n",
      " [20.73747423]\n",
      " [13.05998852]\n",
      " [23.0364222 ]\n",
      " [23.32008533]\n",
      " [16.89707977]\n",
      " [ 8.76419188]\n",
      " [ 5.64213312]\n",
      " [14.960935  ]\n",
      " [18.24093462]\n",
      " [17.8822589 ]\n",
      " [18.00948788]\n",
      " [17.42921915]\n",
      " [19.31137073]\n",
      " [24.87453105]\n",
      " [21.59756669]\n",
      " [15.34556404]\n",
      " [22.22071512]\n",
      " [32.12077573]\n",
      " [15.89157658]\n",
      " [23.35882503]\n",
      " [17.69939011]\n",
      " [27.061577  ]\n",
      " [18.85920733]\n",
      " [16.92716636]\n",
      " [22.47051248]]\n"
     ]
    }
   ],
   "source": [
    "print(y_pred)"
   ]
  },
  {
   "cell_type": "code",
   "execution_count": 50,
   "metadata": {},
   "outputs": [
    {
     "name": "stdout",
     "output_type": "stream",
     "text": [
      "        PRICE\n",
      "410  0.475709\n",
      "85   1.257866\n",
      "280 -5.681786\n",
      "422 -2.854083\n",
      "199 -4.705581\n",
      "..        ...\n",
      "310  1.599390\n",
      "91   5.061577\n",
      "151 -0.740793\n",
      "426  6.727166\n",
      "472 -0.729488\n",
      "\n",
      "[152 rows x 1 columns]\n"
     ]
    }
   ],
   "source": [
    "print(y_pred - y_test)"
   ]
  },
  {
   "cell_type": "code",
   "execution_count": 51,
   "metadata": {},
   "outputs": [
    {
     "name": "stdout",
     "output_type": "stream",
     "text": [
      "4.668156505495087\n"
     ]
    }
   ],
   "source": [
    "from sklearn.metrics import mean_absolute_error\n",
    "\n",
    "x_column_list = ['RM']\n",
    "y_column_list = ['PRICE']\n",
    "\n",
    "X_train, X_test, y_train, y_test = train_test_split(data_boston[x_column_list], data_boston[y_column_list], test_size=0.3)\n",
    "\n",
    "lr_single = LinearRegression()\n",
    "\n",
    "lr_single.fit(X_train, y_train)\n",
    "y_pred = lr_single.predict(X_test)\n",
    "\n",
    "print(mean_absolute_error(y_pred, y_test))"
   ]
  },
  {
   "cell_type": "code",
   "execution_count": 54,
   "metadata": {},
   "outputs": [
    {
     "name": "stdout",
     "output_type": "stream",
     "text": [
      "3.4208360189253777\n"
     ]
    }
   ],
   "source": [
    "x_column_list_for_multi = ['CRIM', 'ZN', 'INDUS', 'CHAS', 'NOX', 'RM', 'AGE', 'DIS', 'RAD', 'TAX', 'PTRATIO', 'B', 'LSTAT']\n",
    "y_column_list_for_multi = ['PRICE']\n",
    "\n",
    "X_train, X_test, y_train, y_test = train_test_split(data_boston[x_column_list_for_multi], data_boston[y_column_list_for_multi], test_size=0.3)\n",
    "\n",
    "lr_multi2 = LinearRegression()\n",
    "\n",
    "lr_multi2.fit(X_train, y_train)\n",
    "y_pred = lr_multi2.predict(X_test)\n",
    "\n",
    "print(mean_absolute_error(y_pred, y_test))"
   ]
  },
  {
   "cell_type": "code",
   "execution_count": null,
   "metadata": {},
   "outputs": [],
   "source": []
  }
 ],
 "metadata": {
  "kernelspec": {
   "display_name": "Python 3",
   "language": "python",
   "name": "python3"
  },
  "language_info": {
   "codemirror_mode": {
    "name": "ipython",
    "version": 3
   },
   "file_extension": ".py",
   "mimetype": "text/x-python",
   "name": "python",
   "nbconvert_exporter": "python",
   "pygments_lexer": "ipython3",
   "version": "3.7.5"
  }
 },
 "nbformat": 4,
 "nbformat_minor": 2
}
